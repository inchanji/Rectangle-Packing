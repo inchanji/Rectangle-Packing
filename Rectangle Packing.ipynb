{
 "cells": [
  {
   "cell_type": "code",
   "execution_count": 2,
   "metadata": {},
   "outputs": [
    {
     "name": "stdout",
     "output_type": "stream",
     "text": [
      "importing fill_rectangles.py\n"
     ]
    }
   ],
   "source": [
    "import numpy as np\n",
    "from matplotlib import pyplot as plt\n",
    "#import seaborn as sns\n",
    "#import rectpack as rp\n",
    "import fill_rectangles as rpmp\n",
    "import time\n",
    "import copy\n",
    "#sns.set(style=\"white\")"
   ]
  },
  {
   "cell_type": "code",
   "execution_count": 23,
   "metadata": {
    "scrolled": false
   },
   "outputs": [
    {
     "name": "stdout",
     "output_type": "stream",
     "text": [
      "initializing global parameters...\n",
      "SEQ_SUBFIELD: [0, 1, 2, 1, 3, 4, 3, 1, 5, 6, 7, 8, 1, 9, 4, 6, 10, 11, 6, 12, 13, 12, 7, 14, 15, 16, 9, 3, 17, 18, 6, 19, 20, 21, 22, 23, 1, 2, 1, 12, 5, 24]\n",
      "0\n"
     ]
    },
    {
     "data": {
      "image/png": "[encoded data removed]",
      "text/plain": [
       "<matplotlib.figure.Figure at 0x106c3f650>"
      ]
     },
     "metadata": {},
     "output_type": "display_data"
    },
    {
     "data": {
      "image/png": "[encoded data removed]",
      "text/plain": [
       "<matplotlib.figure.Figure at 0x1158d5e50>"
      ]
     },
     "metadata": {},
     "output_type": "display_data"
    }
   ],
   "source": [
    "path = '/Users/inchanji/Research/rect_packing/output/NMG_60_45.txt'\n",
    "\n",
    "data = np.array([line.rstrip('\\n').split() for line in open(path)])\n",
    "\n",
    "subfield = rpmp.rectangles()\n",
    "Nsubfield = int(data[1][1])\n",
    "for i in range(Nsubfield):\n",
    "    subfield.add(int(data[3+i][2]),int(data[3+i][3]))\n",
    "    \n",
    "\n",
    "SEQ_SUBFIELD = [ int(num.split(',')[0])-1 for num in data[Nsubfield+4]] \n",
    "print 'SEQ_SUBFIELD:', SEQ_SUBFIELD\n",
    "\n",
    "subfield.maxw_map = int(data[1][3]); subfield.maxh_map = int(data[1][2]);\n",
    "subfield.save_field()\n",
    "\n",
    "      \n",
    "#FIELD, ToGo = rpmp.FILL_RECTS(SEQ_SUBFIELD, subfield)\n",
    "\n",
    "FIELD = subfield.fieldmap.copy()\n",
    "FIELD[:,:] = 0; \n",
    "Nrow, Ncol = np.shape(subfield.fieldmap)\n",
    "SEG = np.zeros((Nrow, Ncol), dtype = 'int')\n",
    "for i in range(len(SEQ_SUBFIELD)):\n",
    "    node \t= rpmp.find_all_nodes(FIELD)\n",
    "    y_st \t= node[0][0]; x_st = node[0][1];\n",
    "    WIDTH \t= node[1][1] - node[0][1] + 1;\n",
    "    HEIGHT \t= subfield.maxh_map - node[0][0] \n",
    "    dy\t= subfield.type[SEQ_SUBFIELD[i]][0]; \n",
    "    dx \t= subfield.type[SEQ_SUBFIELD[i]][1];\n",
    "    if (y_st+dy > Nrow) | (x_st+dx > Ncol): print 'warning!!!'\n",
    "    FIELD[y_st:y_st+dy,x_st:x_st+dx] = subfield.ID[SEQ_SUBFIELD[i]]\n",
    "    SEG[y_st:y_st+dy,x_st:x_st+dx] += 1\n",
    "\n",
    "print  np.sum((SEG == 0) | (SEG > 1))\n",
    "    \n",
    "plt.figure(figsize=(12,10))\n",
    "plt.imshow(FIELD,cmap='tab20b', origin='lower',vmin=np.min(FIELD), vmax=np.max(FIELD))\n",
    "plt.xlabel('X [pix]',fontsize = 15)\n",
    "plt.ylabel('Y [pix]',fontsize = 15)\n",
    "plt.title('Filling Subfields',fontsize = 15)\n",
    "plt.colorbar().set_label(label='ID',size=15)\n",
    "plt.show()\n",
    "\n",
    "plt.figure(figsize=(12,8))\n",
    "plt.hist(np.array(SEQ_SUBFIELD)+0.5, bins = np.arange(subfield.Ntype)+0.5,rwidth = 0.9)\n",
    "plt.title('Histogram of Subfield IDs',fontsize = 15)\n",
    "plt.xlabel('ID',fontsize = 15)\n",
    "plt.ylabel('Count',fontsize = 15)\n",
    "plt.show()\n"
   ]
  },
  {
   "cell_type": "code",
   "execution_count": null,
   "metadata": {
    "scrolled": false
   },
   "outputs": [
    {
     "name": "stdout",
     "output_type": "stream",
     "text": [
      "initializing global parameters...\n",
      "12\n",
      "[(50, 50), (30, 50), (50, 20), (30, 20), (40, 30), (40, 40), (40, 50), (30, 40), (30, 30), (50, 40), (40, 20), (50, 30)]\n",
      "0  fill (280, 260) at  (0, 0)\n",
      "Subfield No.  0  > Size:  (280, 260)\n",
      "1  fill (280, 200) at  (0, 260)\n",
      "Subfield No.  1  > Size:  (280, 200)\n",
      "2  fill (280, 240) at  (0, 460)\n",
      "Subfield No.  2  > Size:  (280, 240)\n",
      "1  fill (280, 200) at  (0, 700)\n",
      "Subfield No.  3  > Size:  (280, 200)\n",
      "3  fill (230, 200) at  (0, 900)\n",
      "Subfield No.  4  > Size:  (230, 200)\n",
      "4  fill (200, 200) at  (0, 1100)\n",
      "Subfield No.  5  > Size:  (200, 200)\n",
      "3  fill (230, 200) at  (200, 1100)\n",
      "Subfield No.  6  > Size:  (230, 200)\n",
      "1  fill (280, 200) at  (230, 900)\n",
      "Subfield No.  7  > Size:  (280, 200)\n",
      "5  fill (200, 240) at  (280, 0)\n",
      "Subfield No.  8  > Size:  (200, 240)\n",
      "6  fill (240, 200) at  (280, 240)\n",
      "Subfield No.  9  > Size:  (240, 200)\n",
      "7  fill (280, 230) at  (280, 440)\n",
      "Subfield No.  10  > Size:  (280, 230)\n",
      "8  fill (270, 230) at  (280, 670)\n",
      "Subfield No.  11  > Size:  (270, 230)\n",
      "1  fill (280, 200) at  (430, 1100)\n",
      "Subfield No.  12  > Size:  (280, 200)\n",
      "9  fill (250, 240) at  (480, 0)\n",
      "Subfield No.  13  > Size:  (250, 240)\n",
      "4  fill (200, 200) at  (510, 900)\n",
      "Subfield No.  14  > Size:  (200, 200)\n",
      "6  fill (240, 200) at  (520, 240)\n",
      "Subfield No.  15  > Size:  (240, 200)\n",
      "10  fill (210, 230) at  (550, 670)\n",
      "Subfield No.  16  > Size:  (210, 230)\n",
      "11  fill (250, 230) at  (560, 440)\n",
      "Subfield No.  17  > Size:  (250, 230)\n",
      "6  fill (240, 200) at  (710, 900)\n",
      "Subfield No.  18  > Size:  (240, 200)\n",
      "12  fill (220, 200) at  (710, 1100)\n",
      "Subfield No.  19  > Size:  (220, 200)\n",
      "13  fill (230, 240) at  (730, 0)\n",
      "Subfield No.  20  > Size:  (230, 240)\n",
      "12  fill (220, 200) at  (760, 240)\n",
      "Subfield No.  21  > Size:  (220, 200)\n",
      "7  fill (280, 230) at  (760, 670)\n",
      "Subfield No.  22  > Size:  (280, 230)\n",
      "14  fill (230, 230) at  (810, 440)\n",
      "Subfield No.  23  > Size:  (230, 230)\n",
      "15  fill (250, 200) at  (930, 1100)\n",
      "Subfield No.  24  > Size:  (250, 200)\n",
      "16  fill (270, 200) at  (950, 900)\n",
      "Subfield No.  25  > Size:  (270, 200)\n",
      "9  fill (250, 240) at  (960, 0)\n",
      "Subfield No.  26  > Size:  (250, 240)\n",
      "3  fill (230, 200) at  (980, 240)\n",
      "Subfield No.  27  > Size:  (230, 200)\n",
      "17  fill (260, 250) at  (1040, 440)\n",
      "Subfield No.  28  > Size:  (260, 250)\n",
      "18  fill (260, 210) at  (1040, 690)\n",
      "Subfield No.  29  > Size:  (260, 210)\n",
      "6  fill (240, 200) at  (1180, 1100)\n",
      "Subfield No.  30  > Size:  (240, 200)\n",
      "19  fill (210, 200) at  (1210, 0)\n",
      "Subfield No.  31  > Size:  (210, 200)\n",
      "20  fill (210, 240) at  (1210, 200)\n",
      "Subfield No.  32  > Size:  (210, 240)\n",
      "21  fill (260, 200) at  (1220, 900)\n",
      "Subfield No.  33  > Size:  (260, 200)\n",
      "22  fill (200, 210) at  (1300, 440)\n",
      "Subfield No.  34  > Size:  (200, 210)\n",
      "23  fill (200, 250) at  (1300, 650)\n",
      "Subfield No.  35  > Size:  (200, 250)\n",
      "1  fill (280, 200) at  (1420, 0)\n",
      "Subfield No.  36  > Size:  (280, 200)\n",
      "2  fill (280, 240) at  (1420, 200)\n",
      "Subfield No.  37  > Size:  (280, 240)\n",
      "1  fill (280, 200) at  (1420, 1100)\n",
      "Subfield No.  38  > Size:  (280, 200)\n",
      "12  fill (220, 200) at  (1480, 900)\n",
      "Subfield No.  39  > Size:  (220, 200)\n",
      "5  fill (200, 240) at  (1500, 440)\n",
      "Subfield No.  40  > Size:  (200, 240)\n"
     ]
    }
   ],
   "source": [
    "lenslet = rpmp.rectangles()\n",
    "Nlenslet = int(data[Nsubfield + 6][1])\n",
    "for i in range(Nlenslet):\n",
    "    lenslet.add(int(data[Nsubfield+8+i][2]),int(data[Nsubfield+8+i][3]))\n",
    "\n",
    "print Nlenslet    \n",
    "print lenslet.type    \n",
    "\n",
    "FIELD2 = np.zeros(np.shape(FIELD))\n",
    "for i in range(len(SEQ_SUBFIELD)):\n",
    "#for i in range(1):\n",
    "    nodes =  rpmp.find_all_nodes(FIELD2)\n",
    "    origin = nodes[0]\n",
    "    iSUBFILED = SEQ_SUBFIELD[i]\n",
    "    print iSUBFILED, ' fill', subfield.type[iSUBFILED], 'at ',nodes[0]\n",
    "    lenslet.maxh_map, lenslet.maxw_map = subfield.type[iSUBFILED]\n",
    "    lenslet.save_field()    \n",
    "    SEQ_LENSLET = [ int(num.split(',')[0])-1 for num in data[Nsubfield+Nlenslet+9+i]] \n",
    "    \n",
    "    SUBFIELD = np.zeros(np.shape(lenslet.fieldmap), dtype = int)\n",
    "    print 'Subfield No. ',i, ' > Size: ', np.shape(lenslet.fieldmap)\n",
    "    for j in range(len(SEQ_LENSLET)):\n",
    "        subnodes =  rpmp.find_all_nodes(SUBFIELD)\n",
    "        dy, dx   =  lenslet.type[SEQ_LENSLET[j]]\n",
    "        y0sub, x0sub =  subnodes[0]\n",
    "\n",
    "        y0 = y0sub + nodes[0][0]; x0 = x0sub + nodes[0][1];\n",
    "        FIELD2[y0:y0+dy, x0:x0+dx]              = lenslet.ID[SEQ_LENSLET[j]]    \n",
    "        SUBFIELD[y0sub:y0sub+dy,x0sub:x0sub+dx] = lenslet.ID[SEQ_LENSLET[j]]    \n",
    "        #FIELD2[nodes[0][0]:nodes[0][0]+lenslet.maxh_map,nodes[0][1]:nodes[0][1]+lenslet.maxw_map] = SUBFIELD\n",
    "\n",
    "    \n",
    "plt.figure(figsize=(12,10))\n",
    "plt.imshow(FIELD2,cmap='tab20b', origin='lower',vmin=np.min(FIELD2), vmax=np.max(FIELD2))\n",
    "#plt.imshow(FIELD2[:300,:300],cmap='tab20b', origin='lower',vmin=np.min(FIELD2), vmax=np.max(FIELD2))\n",
    "#plt.imshow(SUBFIELD,cmap='tab20b', origin='lower',vmin=np.min(SUBFIELD), vmax=np.max(SUBFIELD))\n",
    "plt.xlabel('X [pix]',fontsize = 15)\n",
    "plt.ylabel('Y [pix]',fontsize = 15)\n",
    "plt.title('Filling Lenslets',fontsize = 15)\n",
    "plt.colorbar().set_label(label='ID',size=15)\n",
    "plt.show()\n"
   ]
  },
  {
   "cell_type": "code",
   "execution_count": 25,
   "metadata": {},
   "outputs": [
    {
     "data": {
      "text/plain": [
       "['a', 'c', 'e', 'f']"
      ]
     },
     "execution_count": 25,
     "metadata": {},
     "output_type": "execute_result"
    }
   ],
   "source": [
    "name = ['a','b','c','d','e','f','g']\n",
    "name2 = ['a','c','e','f','k']\n",
    "[v for v in name if v in name2]\n",
    "\n",
    "#[v for v in tf.global_variables() if \"12calib_\" in v.name]"
   ]
  },
  {
   "cell_type": "code",
   "execution_count": 18,
   "metadata": {},
   "outputs": [
    {
     "name": "stdout",
     "output_type": "stream",
     "text": [
      " Error filling (1, 2)\n",
      " Error filling (1, 2)\n"
     ]
    }
   ],
   "source": [
    "print(' Error filling ({}, {})'.format(1,2))\n",
    "print(' Error filling ({}, {})'.format(1,2))"
   ]
  },
  {
   "cell_type": "code",
   "execution_count": 7,
   "metadata": {},
   "outputs": [
    {
     "data": {
      "text/plain": [
       "(220, 150)"
      ]
     },
     "execution_count": 7,
     "metadata": {},
     "output_type": "execute_result"
    }
   ],
   "source": [
    "np.shape(SUBFIELD)"
   ]
  },
  {
   "cell_type": "code",
   "execution_count": 131,
   "metadata": {},
   "outputs": [
    {
     "name": "stdout",
     "output_type": "stream",
     "text": [
      "250\n",
      "200\n"
     ]
    }
   ],
   "source": [
    "node = [(1800, 980), (1800, 1229), (1999, 1229), (1999, 980)]\n",
    "\n",
    "print node[1][1]  - node[0][1] + 1\n",
    "print subfield.maxh_map - node[0][0] "
   ]
  },
  {
   "cell_type": "code",
   "execution_count": 60,
   "metadata": {},
   "outputs": [
    {
     "data": {
      "text/plain": [
       "36"
      ]
     },
     "execution_count": 60,
     "metadata": {},
     "output_type": "execute_result"
    }
   ],
   "source": [
    "alist = range(200,290,10)\n",
    "comb = list(combinations(alist,2))\n",
    "len(comb)\n",
    "#for c1,c2 in comb:\n",
    "#    print c1, c2"
   ]
  },
  {
   "cell_type": "code",
   "execution_count": 73,
   "metadata": {},
   "outputs": [
    {
     "ename": "TypeError",
     "evalue": "'function' object has no attribute '__getitem__'",
     "output_type": "error",
     "traceback": [
      "\u001b[0;31m---------------------------------------------------------------------------\u001b[0m",
      "\u001b[0;31mTypeError\u001b[0m                                 Traceback (most recent call last)",
      "\u001b[0;32m<ipython-input-73-3d6e478e0d27>\u001b[0m in \u001b[0;36m<module>\u001b[0;34m()\u001b[0m\n\u001b[1;32m      1\u001b[0m \u001b[0mmyfunct\u001b[0m \u001b[0;34m=\u001b[0m \u001b[0;34m[\u001b[0m\u001b[0;32mlambda\u001b[0m\u001b[0;34m:\u001b[0m \u001b[0meval\u001b[0m\u001b[0;34m(\u001b[0m\u001b[0;34m'1+2'\u001b[0m\u001b[0;34m)\u001b[0m\u001b[0;34m,\u001b[0m \u001b[0;32mlambda\u001b[0m\u001b[0;34m:\u001b[0m \u001b[0meval\u001b[0m\u001b[0;34m(\u001b[0m\u001b[0;34m'2+3'\u001b[0m\u001b[0;34m)\u001b[0m\u001b[0;34m]\u001b[0m\u001b[0;34m\u001b[0m\u001b[0m\n\u001b[0;32m----> 2\u001b[0;31m \u001b[0mmyfunct\u001b[0m\u001b[0;34m[\u001b[0m\u001b[0;36m0\u001b[0m\u001b[0;34m]\u001b[0m\u001b[0;34m[\u001b[0m\u001b[0;36m0\u001b[0m\u001b[0;34m]\u001b[0m\u001b[0;34m\u001b[0m\u001b[0m\n\u001b[0m",
      "\u001b[0;31mTypeError\u001b[0m: 'function' object has no attribute '__getitem__'"
     ]
    }
   ],
   "source": [
    "myfunct = [lambda: eval('1+2'), lambda: eval('2+3')]\n",
    "myfunct[0]"
   ]
  },
  {
   "cell_type": "code",
   "execution_count": 59,
   "metadata": {},
   "outputs": [
    {
     "name": "stdout",
     "output_type": "stream",
     "text": [
      "[-4.  9.]\n"
     ]
    },
    {
     "data": {
      "text/plain": [
       "[-3, 8]"
      ]
     },
     "execution_count": 59,
     "metadata": {},
     "output_type": "execute_result"
    }
   ],
   "source": [
    "COEFF = [ (200,210),  (1,1)]\n",
    "RHS   = [1090,5]\n",
    "x = np.linalg.solve(COEFF, RHS)\n",
    "print x\n",
    "map(int, x)"
   ]
  },
  {
   "cell_type": "code",
   "execution_count": 24,
   "metadata": {},
   "outputs": [
    {
     "name": "stdout",
     "output_type": "stream",
     "text": [
      "4\n"
     ]
    }
   ],
   "source": [
    "a = (3,2)[0] + (1,2)[0]\n",
    "print a"
   ]
  },
  {
   "cell_type": "code",
   "execution_count": 16,
   "metadata": {},
   "outputs": [
    {
     "name": "stdout",
     "output_type": "stream",
     "text": [
      "[200, 210, 220, 230, 240, 250, 260, 270, 280] [240, 260, 280, 230, 210, 200, 270, 250, 220]\n"
     ]
    }
   ],
   "source": [
    "\n",
    "WIDTH   = 1080\n",
    "RTNLIST = range(200,290,10)\n",
    "RTNLISTRAND = copy.copy(RTNLIST); np.random.shuffle(RTNLISTRAND);\n",
    "\n",
    "\n",
    "\n",
    "\n",
    "print RTNLIST, RTNLISTRAND"
   ]
  },
  {
   "cell_type": "code",
   "execution_count": 394,
   "metadata": {},
   "outputs": [
    {
     "data": {
      "text/plain": [
       "0"
      ]
     },
     "execution_count": 394,
     "metadata": {},
     "output_type": "execute_result"
    }
   ],
   "source": [
    "RAND_FACT([200,280],10)"
   ]
  },
  {
   "cell_type": "code",
   "execution_count": 328,
   "metadata": {},
   "outputs": [
    {
     "name": "stdout",
     "output_type": "stream",
     "text": [
      "[0, 1, 4, 5, 6, 7, 8, 9, 10, 13, 22, 23, 25]\n",
      "5\n"
     ]
    }
   ],
   "source": [
    "sequence  = [24, 16, 2, 3, 11, 16, 12, 21]\n",
    "TypeAvail = [0,1,2,4,5,6,7,8,9,10,13,16,22,23,24,25]\n",
    "Nused = []; candidate = []; Nmin = 999999;\n",
    "for i in TypeAvail:\n",
    "    N = np.sum(np.array(sequence) == i)\n",
    "    Nused.append(N)\n",
    "    if N < Nmin: Nmin = N\n",
    "for i in range(len(Nused)):\n",
    "    if Nused[i] == Nmin: candidate.append(TypeAvail[i])\n",
    "        \n",
    "print candidate\n",
    "print candidate[int(np.random.uniform()*len(candidate))]"
   ]
  },
  {
   "cell_type": "code",
   "execution_count": 2,
   "metadata": {},
   "outputs": [
    {
     "data": {
      "text/plain": [
       "2608"
      ]
     },
     "execution_count": 2,
     "metadata": {},
     "output_type": "execute_result"
    }
   ],
   "source": [
    "path = '/Users/inchanji/Research/rect_packing/rect_combination_step4.txt'\n",
    "data = np.array([line.rstrip('\\n').split() for line in open(path)])[20:]\n",
    "sequence = []\n",
    "for i in range(len(data)):\n",
    "    sequence.append(map(int, data[i]))\n",
    "len(sequence)"
   ]
  },
  {
   "cell_type": "code",
   "execution_count": 10,
   "metadata": {},
   "outputs": [
    {
     "name": "stdout",
     "output_type": "stream",
     "text": [
      "initializing global parameters...\n"
     ]
    },
    {
     "data": {
      "text/plain": [
       "<fill_rectangles_multiproc.rectangles instance at 0x1a0c9efbd8>"
      ]
     },
     "execution_count": 10,
     "metadata": {},
     "output_type": "execute_result"
    }
   ],
   "source": [
    "lens = rpmp.rectangles()\n",
    "lens.add(25,25); lens.add(25,26); lens.add(26,25); lens.add(26,20); lens.add(24,22); \n",
    "lens.add(24,24); lens.add(24,23); lens.add(28,28); lens.add(28,21); lens.add(28,20); \n",
    "lens.add(26,26); lens.add(27,27); lens.add(23,20); lens.add(27,24); lens.add(25,24); \n",
    "lens.add(21,23); lens.add(21,26); lens.add(24,27); lens.add(19,22); lens.add(19,24); \n",
    "lens.add(28,23); lens.add(18,24); lens.add(20,22); lens.add(20,27); lens.add(27,26);\n",
    "lens.add(30,30); lens.add(20,20); lens.add(20,30); lens.add(30,20);\n",
    "lens.add(1,1);\n",
    "lens.add_endingrect();\n",
    "lens.maxw_map = 150; lens.maxh_map = 100;\n",
    "lens.save_field()\n"
   ]
  },
  {
   "cell_type": "code",
   "execution_count": 149,
   "metadata": {},
   "outputs": [
    {
     "name": "stdout",
     "output_type": "stream",
     "text": [
      "[25, 25, 26, 26, 24, 24, 24, 28, 28, 28, 26, 27, 23, 27, 25, 21, 21, 24, 19, 19, 28, 18, 20, 20, 27]\n"
     ]
    }
   ],
   "source": [
    "a = [rect[0] for rect in lens.type[:lens.Ntype-1]]\n",
    "print a"
   ]
  },
  {
   "cell_type": "code",
   "execution_count": 49,
   "metadata": {},
   "outputs": [],
   "source": [
    "def check_duplicate_nodes(allnodes, node):\n",
    "    if len(allnodes) == 0:\n",
    "        allnodes.append(node)\n",
    "        return allnodes\n",
    "    nodes_same1 = []; Nnode = len(node)\n",
    "    for i in range(len(allnodes)):\n",
    "        if (len(allnodes[i]) == Nnode) & ((allnodes[i][0] != node[0]) | (allnodes[i][1] != node[1])\\\n",
    "            | (allnodes[i][-2] != node[-2]) | (allnodes[i][-1] != node[-1])): \n",
    "            nodes_same1.append(allnodes[i])\n",
    "    if len(nodes_same1) == 0:\n",
    "        allnodes.append(node)\n",
    "        return allnodes\n",
    "    else:\n",
    "        for i in range(len(nodes_same1)):\n",
    "            Nsame = 0\n",
    "            for j in range(Nnode):\n",
    "                if nodes_same1[i][j] == node[j]: Nsame+=1\n",
    "            if Nsame == Nnode: \n",
    "                print 'same node detected...'\n",
    "                print nodes_same1[i], 'vs. ',node\n",
    "                return allnodes\n",
    "                break\n",
    "        allnodes.append(node)\n",
    "        return allnodes\n",
    "    \n",
    "def rotate_180(array):\n",
    "    Nrow, Ncol = np.shape(array)\n",
    "    rtn = np.zeros((Nrow, Ncol), dtype ='int')\n",
    "    for i in range(Nrow):\n",
    "        for j in range(Ncol):\n",
    "            rtn[i, Ncol-1-j] = array[Nrow-1-i, j]        \n",
    "    return rtn\n"
   ]
  },
  {
   "cell_type": "code",
   "execution_count": 5,
   "metadata": {},
   "outputs": [
    {
     "ename": "TypeError",
     "evalue": "'int' object has no attribute '__getitem__'",
     "output_type": "error",
     "traceback": [
      "\u001b[0;31m---------------------------------------------------------------------------\u001b[0m",
      "\u001b[0;31mTypeError\u001b[0m                                 Traceback (most recent call last)",
      "\u001b[0;32m<ipython-input-5-2e35bf70620a>\u001b[0m in \u001b[0;36m<module>\u001b[0;34m()\u001b[0m\n\u001b[1;32m      2\u001b[0m \u001b[0;32mfor\u001b[0m \u001b[0mi\u001b[0m \u001b[0;32min\u001b[0m \u001b[0mrange\u001b[0m\u001b[0;34m(\u001b[0m\u001b[0mlen\u001b[0m\u001b[0;34m(\u001b[0m\u001b[0msequence\u001b[0m\u001b[0;34m)\u001b[0m\u001b[0;34m)\u001b[0m\u001b[0;34m:\u001b[0m\u001b[0;34m\u001b[0m\u001b[0m\n\u001b[1;32m      3\u001b[0m     \u001b[0mhist\u001b[0m \u001b[0;34m=\u001b[0m \u001b[0mnp\u001b[0m\u001b[0;34m.\u001b[0m\u001b[0marray\u001b[0m\u001b[0;34m(\u001b[0m\u001b[0msequence\u001b[0m\u001b[0;34m[\u001b[0m\u001b[0mi\u001b[0m\u001b[0;34m]\u001b[0m\u001b[0;34m)\u001b[0m\u001b[0;34m-\u001b[0m\u001b[0;36m1\u001b[0m\u001b[0;34m\u001b[0m\u001b[0m\n\u001b[0;32m----> 4\u001b[0;31m     \u001b[0mMaskmap\u001b[0m\u001b[0;34m,\u001b[0m \u001b[0mToGo\u001b[0m \u001b[0;34m=\u001b[0m \u001b[0mrpmp\u001b[0m\u001b[0;34m.\u001b[0m\u001b[0mdo_fill\u001b[0m\u001b[0;34m(\u001b[0m\u001b[0mhist\u001b[0m\u001b[0;34m,\u001b[0m \u001b[0mlens\u001b[0m\u001b[0;34m)\u001b[0m\u001b[0;34m\u001b[0m\u001b[0m\n\u001b[0m\u001b[1;32m      5\u001b[0m     \u001b[0mMaskmap2\u001b[0m \u001b[0;34m=\u001b[0m \u001b[0mrotate_180\u001b[0m\u001b[0;34m(\u001b[0m\u001b[0mMaskmap\u001b[0m\u001b[0;34m)\u001b[0m\u001b[0;34m\u001b[0m\u001b[0m\n\u001b[1;32m      6\u001b[0m     \u001b[0;32mtry\u001b[0m\u001b[0;34m:\u001b[0m\u001b[0;34m\u001b[0m\u001b[0m\n",
      "\u001b[0;32m/Users/inchanji/Research/rect_packing/fill_rectangles_multiproc.py\u001b[0m in \u001b[0;36mdo_fill\u001b[0;34m(history, rectangles)\u001b[0m\n\u001b[1;32m    280\u001b[0m         \u001b[0;32mfor\u001b[0m \u001b[0mi\u001b[0m \u001b[0;32min\u001b[0m \u001b[0mrange\u001b[0m\u001b[0;34m(\u001b[0m\u001b[0mlen\u001b[0m\u001b[0;34m(\u001b[0m\u001b[0mhistory\u001b[0m\u001b[0;34m)\u001b[0m\u001b[0;34m)\u001b[0m\u001b[0;34m:\u001b[0m\u001b[0;34m\u001b[0m\u001b[0m\n\u001b[1;32m    281\u001b[0m                 \u001b[0mnode\u001b[0m    \u001b[0;34m=\u001b[0m \u001b[0mfind_all_nodes\u001b[0m\u001b[0;34m(\u001b[0m\u001b[0mrtn\u001b[0m\u001b[0;34m)\u001b[0m\u001b[0;34m\u001b[0m\u001b[0m\n\u001b[0;32m--> 282\u001b[0;31m                 \u001b[0my_st\u001b[0m    \u001b[0;34m=\u001b[0m \u001b[0mnode\u001b[0m\u001b[0;34m[\u001b[0m\u001b[0;36m0\u001b[0m\u001b[0;34m]\u001b[0m\u001b[0;34m[\u001b[0m\u001b[0;36m0\u001b[0m\u001b[0;34m]\u001b[0m\u001b[0;34m;\u001b[0m \u001b[0mx_st\u001b[0m \u001b[0;34m=\u001b[0m \u001b[0mnode\u001b[0m\u001b[0;34m[\u001b[0m\u001b[0;36m0\u001b[0m\u001b[0;34m]\u001b[0m\u001b[0;34m[\u001b[0m\u001b[0;36m1\u001b[0m\u001b[0;34m]\u001b[0m\u001b[0;34m;\u001b[0m\u001b[0;34m\u001b[0m\u001b[0m\n\u001b[0m\u001b[1;32m    283\u001b[0m                 \u001b[0mWIDTH\u001b[0m   \u001b[0;34m=\u001b[0m \u001b[0mnode\u001b[0m\u001b[0;34m[\u001b[0m\u001b[0;36m1\u001b[0m\u001b[0;34m]\u001b[0m\u001b[0;34m[\u001b[0m\u001b[0;36m1\u001b[0m\u001b[0;34m]\u001b[0m \u001b[0;34m-\u001b[0m \u001b[0mnode\u001b[0m\u001b[0;34m[\u001b[0m\u001b[0;36m0\u001b[0m\u001b[0;34m]\u001b[0m\u001b[0;34m[\u001b[0m\u001b[0;36m1\u001b[0m\u001b[0;34m]\u001b[0m \u001b[0;34m+\u001b[0m \u001b[0;36m1\u001b[0m\u001b[0;34m;\u001b[0m\u001b[0;34m\u001b[0m\u001b[0m\n\u001b[1;32m    284\u001b[0m                 \u001b[0mHEIGHT\u001b[0m  \u001b[0;34m=\u001b[0m \u001b[0mrectangles\u001b[0m\u001b[0;34m.\u001b[0m\u001b[0mmaxh_map\u001b[0m \u001b[0;34m-\u001b[0m \u001b[0mnode\u001b[0m\u001b[0;34m[\u001b[0m\u001b[0;36m0\u001b[0m\u001b[0;34m]\u001b[0m\u001b[0;34m[\u001b[0m\u001b[0;36m0\u001b[0m\u001b[0;34m]\u001b[0m\u001b[0;34m\u001b[0m\u001b[0m\n",
      "\u001b[0;31mTypeError\u001b[0m: 'int' object has no attribute '__getitem__'"
     ]
    }
   ],
   "source": [
    "\n",
    "for i in range(len(sequence)):\n",
    "    hist = np.array(sequence[i])-1\n",
    "    Maskmap, ToGo = rpmp.do_fill(hist, lens)\n",
    "    Maskmap2 = rotate_180(Maskmap)\n",
    "    try:\n",
    "        nodes =  rpmp.find_all_nodes(Maskmap2)\n",
    "    except:\n",
    "        print 'found error finding nodes, at i =', i\n",
    "'''\n",
    "hist = np.array(sequence[1234])-1\n",
    "Maskmap, ToGo = rpmp.do_fill(hist, lens)\n",
    "plt.figure(figsize=(12,8))\n",
    "plt.imshow(Maskmap, origin='lower')\n",
    "plt.show()\n",
    "'''"
   ]
  },
  {
   "cell_type": "code",
   "execution_count": 11,
   "metadata": {},
   "outputs": [
    {
     "name": "stdout",
     "output_type": "stream",
     "text": [
      "29\n"
     ]
    },
    {
     "data": {
      "image/png": "[encoded data removed]",
      "text/plain": [
       "<matplotlib.figure.Figure at 0x1a15fa5690>"
      ]
     },
     "metadata": {},
     "output_type": "display_data"
    },
    {
     "data": {
      "image/png": "[encoded data removed]",
      "text/plain": [
       "<matplotlib.figure.Figure at 0x1a0c8f8050>"
      ]
     },
     "metadata": {},
     "output_type": "display_data"
    },
    {
     "name": "stdout",
     "output_type": "stream",
     "text": [
      "[(66, 82), (66, 84), (76, 84), (76, 129), (77, 129), (77, 149), (99, 149), (99, 0), (82, 0), (82, 19), (83, 19), (83, 42), (73, 42), (73, 61), (86, 61), (86, 82)]\n"
     ]
    },
    {
     "data": {
      "image/png": "[encoded data removed]",
      "text/plain": [
       "<matplotlib.figure.Figure at 0x1a1603fe90>"
      ]
     },
     "metadata": {},
     "output_type": "display_data"
    }
   ],
   "source": [
    "#hist = np.array(sequence[233])-1\n",
    "hist = np.array([15, 17, 24, 16, 17, 22, 20, 12, 25, 19, 24, 6, 22, 23, 24, 26, 11, 26, 11, 1, 22, 23, 24, 25, 14, 3, 11, 23, 22])-1\n",
    "print len(hist)\n",
    "#hist = [13,  3, 24,  9, 13, 24]\n",
    "# 21, 24, 3, 21\n",
    "hist = [3, 4, 12, 15, 2, 26, 9, 28, 15, 26, 18, 9, 0, 12, 6, 22, 28, 3, 0, 3, 9, 22, 26]\n",
    "        \n",
    "Maskmap1, ToGo = rpmp.do_fill(hist, lens)\n",
    "\n",
    "plt.figure(figsize=(12,8))\n",
    "plt.imshow(Maskmap1, origin='lower')\n",
    "plt.show()\n",
    "\n",
    "plt.figure(figsize=(12,8))\n",
    "plt.hist(np.array(hist)+0.5, bins = np.arange(26)+0.5,rwidth = 0.9)\n",
    "plt.show()\n",
    "\n",
    "nodes =  rpmp.find_all_nodes(Maskmap1)\n",
    "print nodes\n",
    "if nodes[-1] != -1:\n",
    "    Nodemap = Maskmap1.copy()\n",
    "    for i in range(len(nodes)): \n",
    "        Nodemap[nodes[i][0], nodes[i][1]] = 80\n",
    "\n",
    "    plt.figure(figsize=(12,8))\n",
    "    plt.imshow(Nodemap, origin='lower')\n",
    "    plt.show()\n"
   ]
  },
  {
   "cell_type": "code",
   "execution_count": 378,
   "metadata": {},
   "outputs": [
    {
     "data": {
      "text/plain": [
       "12.24744871391589"
      ]
     },
     "execution_count": 378,
     "metadata": {},
     "output_type": "execute_result"
    }
   ],
   "source": [
    "np.sqrt(150 * 100 * 0.01)"
   ]
  },
  {
   "cell_type": "code",
   "execution_count": 281,
   "metadata": {},
   "outputs": [
    {
     "data": {
      "text/plain": [
       "0.12"
      ]
     },
     "execution_count": 281,
     "metadata": {},
     "output_type": "execute_result"
    }
   ],
   "source": [
    "1. * 60 * 60 / (150 * 200)"
   ]
  },
  {
   "cell_type": "code",
   "execution_count": 50,
   "metadata": {
    "scrolled": false
   },
   "outputs": [
    {
     "name": "stdout",
     "output_type": "stream",
     "text": [
      "True True\n"
     ]
    },
    {
     "data": {
      "image/png": "[encoded data removed]",
      "text/plain": [
       "<matplotlib.figure.Figure at 0x101e8c110>"
      ]
     },
     "metadata": {},
     "output_type": "display_data"
    },
    {
     "data": {
      "image/png": "[encoded data removed]",
      "text/plain": [
       "<matplotlib.figure.Figure at 0x1a13a14f10>"
      ]
     },
     "metadata": {},
     "output_type": "display_data"
    },
    {
     "data": {
      "image/png": "[encoded data removed]",
      "text/plain": [
       "<matplotlib.figure.Figure at 0x1a129d6510>"
      ]
     },
     "metadata": {},
     "output_type": "display_data"
    },
    {
     "name": "stdout",
     "output_type": "stream",
     "text": [
      "1617\n",
      "1\n",
      "0\n"
     ]
    },
    {
     "ename": "TypeError",
     "evalue": "'NoneType' object has no attribute '__getitem__'",
     "output_type": "error",
     "traceback": [
      "\u001b[0;31m---------------------------------------------------------------------------\u001b[0m",
      "\u001b[0;31mTypeError\u001b[0m                                 Traceback (most recent call last)",
      "\u001b[0;32m<ipython-input-50-768290980e1f>\u001b[0m in \u001b[0;36m<module>\u001b[0;34m()\u001b[0m\n\u001b[1;32m     31\u001b[0m \u001b[0;32mif\u001b[0m \u001b[0mlen\u001b[0m\u001b[0;34m(\u001b[0m\u001b[0mnodes\u001b[0m\u001b[0;34m)\u001b[0m \u001b[0;34m>\u001b[0m \u001b[0;36m1\u001b[0m\u001b[0;34m:\u001b[0m\u001b[0;34m\u001b[0m\u001b[0m\n\u001b[1;32m     32\u001b[0m     \u001b[0mNodemap\u001b[0m \u001b[0;34m=\u001b[0m \u001b[0mMaskmap3\u001b[0m\u001b[0;34m.\u001b[0m\u001b[0mcopy\u001b[0m\u001b[0;34m(\u001b[0m\u001b[0;34m)\u001b[0m\u001b[0;34m\u001b[0m\u001b[0m\n\u001b[0;32m---> 33\u001b[0;31m     \u001b[0mnodes\u001b[0m \u001b[0;34m=\u001b[0m  \u001b[0mrpmp\u001b[0m\u001b[0;34m.\u001b[0m\u001b[0mfind_all_nodes\u001b[0m\u001b[0;34m(\u001b[0m\u001b[0mNodemap\u001b[0m\u001b[0;34m)\u001b[0m\u001b[0;34m\u001b[0m\u001b[0m\n\u001b[0m\u001b[1;32m     34\u001b[0m     \u001b[0;32mfor\u001b[0m \u001b[0mi\u001b[0m \u001b[0;32min\u001b[0m \u001b[0mrange\u001b[0m\u001b[0;34m(\u001b[0m\u001b[0mlen\u001b[0m\u001b[0;34m(\u001b[0m\u001b[0mnodes\u001b[0m\u001b[0;34m)\u001b[0m\u001b[0;34m)\u001b[0m\u001b[0;34m:\u001b[0m\u001b[0;34m\u001b[0m\u001b[0m\n\u001b[1;32m     35\u001b[0m         \u001b[0mNodemap\u001b[0m\u001b[0;34m[\u001b[0m\u001b[0mnodes\u001b[0m\u001b[0;34m[\u001b[0m\u001b[0mi\u001b[0m\u001b[0;34m]\u001b[0m\u001b[0;34m[\u001b[0m\u001b[0;36m0\u001b[0m\u001b[0;34m]\u001b[0m\u001b[0;34m,\u001b[0m \u001b[0mnodes\u001b[0m\u001b[0;34m[\u001b[0m\u001b[0mi\u001b[0m\u001b[0;34m]\u001b[0m\u001b[0;34m[\u001b[0m\u001b[0;36m1\u001b[0m\u001b[0;34m]\u001b[0m\u001b[0;34m]\u001b[0m \u001b[0;34m=\u001b[0m \u001b[0;36m80\u001b[0m\u001b[0;34m\u001b[0m\u001b[0m\n",
      "\u001b[0;32m/Users/inchanji/Research/rect_packing/fill_rectangles_multiproc.py\u001b[0m in \u001b[0;36mfind_all_nodes\u001b[0;34m(array, val_unfill)\u001b[0m\n\u001b[1;32m    390\u001b[0m                 \u001b[0;32mreturn\u001b[0m \u001b[0;34m(\u001b[0m\u001b[0mi\u001b[0m\u001b[0;34m,\u001b[0m \u001b[0mNcol\u001b[0m\u001b[0;34m-\u001b[0m\u001b[0;36m1\u001b[0m\u001b[0;34m)\u001b[0m\u001b[0;34m\u001b[0m\u001b[0m\n\u001b[1;32m    391\u001b[0m \u001b[0;34m\u001b[0m\u001b[0m\n\u001b[0;32m--> 392\u001b[0;31m         \u001b[0;32mif\u001b[0m \u001b[0mdirection\u001b[0m \u001b[0;34m==\u001b[0m \u001b[0;34m'North'\u001b[0m\u001b[0;34m:\u001b[0m\u001b[0;34m\u001b[0m\u001b[0m\n\u001b[0m\u001b[1;32m    393\u001b[0m                 \u001b[0;32mif\u001b[0m \u001b[0mj\u001b[0m \u001b[0;34m==\u001b[0m \u001b[0mNcol\u001b[0m \u001b[0;34m-\u001b[0m\u001b[0;36m1\u001b[0m\u001b[0;34m:\u001b[0m\u001b[0;34m\u001b[0m\u001b[0m\n\u001b[1;32m    394\u001b[0m                         \u001b[0;32mfor\u001b[0m \u001b[0mk\u001b[0m \u001b[0;32min\u001b[0m \u001b[0mrange\u001b[0m\u001b[0;34m(\u001b[0m\u001b[0mi\u001b[0m\u001b[0;34m+\u001b[0m\u001b[0;36m1\u001b[0m\u001b[0;34m,\u001b[0m\u001b[0mNrow\u001b[0m\u001b[0;34m-\u001b[0m\u001b[0;36m1\u001b[0m\u001b[0;34m)\u001b[0m\u001b[0;34m:\u001b[0m\u001b[0;34m\u001b[0m\u001b[0m\n",
      "\u001b[0;32m/Users/inchanji/Research/rect_packing/fill_rectangles_multiproc.py\u001b[0m in \u001b[0;36mfind_direction_node\u001b[0;34m(array, node, val_unfill, direction0)\u001b[0m\n\u001b[1;32m    244\u001b[0m         \u001b[0mNTYPE_W\u001b[0m  \u001b[0;34m=\u001b[0m \u001b[0mint\u001b[0m\u001b[0;34m(\u001b[0m\u001b[0mround\u001b[0m\u001b[0;34m(\u001b[0m\u001b[0mrectangles\u001b[0m\u001b[0;34m.\u001b[0m\u001b[0mmaxw_map\u001b[0m\u001b[0;34m/\u001b[0m\u001b[0m_WIDTH_\u001b[0m\u001b[0;34m)\u001b[0m\u001b[0;34m)\u001b[0m\u001b[0;34m;\u001b[0m \u001b[0mNTYPE_H\u001b[0m  \u001b[0;34m=\u001b[0m \u001b[0mint\u001b[0m\u001b[0;34m(\u001b[0m\u001b[0mround\u001b[0m\u001b[0;34m(\u001b[0m\u001b[0mrectangles\u001b[0m\u001b[0;34m.\u001b[0m\u001b[0mmaxh_map\u001b[0m\u001b[0;34m/\u001b[0m\u001b[0m_HEIGHT_\u001b[0m\u001b[0;34m)\u001b[0m\u001b[0;34m)\u001b[0m\u001b[0;34m;\u001b[0m\u001b[0;34m\u001b[0m\u001b[0m\n\u001b[1;32m    245\u001b[0m \u001b[0;34m\u001b[0m\u001b[0m\n\u001b[0;32m--> 246\u001b[0;31m         \u001b[0mRTN\u001b[0m \u001b[0;34m=\u001b[0m \u001b[0;34m[\u001b[0m\u001b[0;34m]\u001b[0m\u001b[0;34m\u001b[0m\u001b[0m\n\u001b[0m\u001b[1;32m    247\u001b[0m \u001b[0;34m\u001b[0m\u001b[0m\n\u001b[1;32m    248\u001b[0m         \u001b[0mSEQ1\u001b[0m            \u001b[0;34m=\u001b[0m \u001b[0mlist\u001b[0m\u001b[0;34m(\u001b[0m\u001b[0mnp\u001b[0m\u001b[0;34m.\u001b[0m\u001b[0marray\u001b[0m\u001b[0;34m(\u001b[0m\u001b[0mSEQUENCE\u001b[0m\u001b[0;34m[\u001b[0m\u001b[0;34m:\u001b[0m\u001b[0mNSEQHALF\u001b[0m\u001b[0;34m]\u001b[0m\u001b[0;34m)\u001b[0m \u001b[0;34m-\u001b[0m \u001b[0moffset\u001b[0m\u001b[0;34m)\u001b[0m \u001b[0;31m# <------ !!!!\u001b[0m\u001b[0;34m\u001b[0m\u001b[0m\n",
      "\u001b[0;31mTypeError\u001b[0m: 'NoneType' object has no attribute '__getitem__'"
     ]
    }
   ],
   "source": [
    "hist = np.array([ 24 , 20 , 6 ,  22])-1 #  |   5   18  4   8   13\n",
    "Maskmap1, ToGo = rpmp.do_fill(hist, lens)\n",
    "\n",
    "hist2 = np.array([24 , 20 , 6 ,  22])-1\n",
    "Maskmap2, ToGo2 = rpmp.do_fill(hist2, lens)\n",
    "Maskmap2 = rotate_180(Maskmap2)\n",
    "\n",
    "print ToGo, ToGo2\n",
    "Maskmap3 = Maskmap1 + Maskmap2\n",
    "\n",
    "Nodemap = Maskmap3.copy()\n",
    "\n",
    "#nodes =  rpmp.find_all_nodes(Nodemap)\n",
    "#print nodes\n",
    "\n",
    "plt.figure(figsize=(12,8))\n",
    "plt.imshow(Maskmap1, origin='lower',vmin = 0, vmax = 30)\n",
    "plt.show()\n",
    "\n",
    "plt.figure(figsize=(12,8))\n",
    "plt.imshow(Maskmap2, origin='lower',vmin = 0, vmax = 30)\n",
    "plt.show()\n",
    "\n",
    "plt.figure(figsize=(12,8))\n",
    "plt.imshow(Maskmap3, origin='lower',vmin = 0, vmax = 30)\n",
    "plt.show()\n",
    "print np.sum(Maskmap3.ravel()==0)\n",
    "print np.max(np.sign(Maskmap1) + np.sign(Maskmap2))\n",
    "print np.min(np.sign(Maskmap1) + np.sign(Maskmap2))\n",
    "\n",
    "if len(nodes) > 1:\n",
    "    Nodemap = Maskmap3.copy()\n",
    "    nodes =  rpmp.find_all_nodes(Nodemap)\n",
    "    for i in range(len(nodes)): \n",
    "        Nodemap[nodes[i][0], nodes[i][1]] = 80\n",
    "\n",
    "    plt.figure(figsize=(12,8))\n",
    "    plt.imshow(Nodemap, origin='lower')\n",
    "    plt.show()\n",
    "\n",
    "hist3 = list(hist) + list(hist2[::-1])\n",
    "print hist3\n",
    "Maskmap, ToGo = rpmp.do_fill(hist3, lens)\n",
    "\n",
    "plt.figure(figsize=(12,8))\n",
    "plt.imshow(Maskmap, origin='lower',vmin = 0, vmax = 30)\n",
    "plt.show()\n",
    "\n",
    "Nodemap = Maskmap.copy()\n",
    "\n",
    "nodes =  rpmp.find_all_nodes(Nodemap)\n",
    "print nodes\n"
   ]
  },
  {
   "cell_type": "code",
   "execution_count": 34,
   "metadata": {},
   "outputs": [
    {
     "data": {
      "text/plain": [
       "2"
      ]
     },
     "execution_count": 34,
     "metadata": {},
     "output_type": "execute_result"
    }
   ],
   "source": [
    "Maskmap3[40,40]"
   ]
  },
  {
   "cell_type": "code",
   "execution_count": null,
   "metadata": {},
   "outputs": [],
   "source": []
  },
  {
   "cell_type": "code",
   "execution_count": 23,
   "metadata": {},
   "outputs": [
    {
     "data": {
      "text/plain": [
       "1"
      ]
     },
     "execution_count": 23,
     "metadata": {},
     "output_type": "execute_result"
    }
   ],
   "source": [
    "a= np.sign(Maskmap) + np.sign(Maskmap2)\n",
    "np.max(a.ravel())"
   ]
  },
  {
   "cell_type": "code",
   "execution_count": 83,
   "metadata": {},
   "outputs": [
    {
     "name": "stdout",
     "output_type": "stream",
     "text": [
      "nodes =  [0]\n"
     ]
    },
    {
     "ename": "TypeError",
     "evalue": "'int' object has no attribute '__getitem__'",
     "output_type": "error",
     "traceback": [
      "\u001b[0;31m---------------------------------------------------------------------------\u001b[0m",
      "\u001b[0;31mTypeError\u001b[0m                                 Traceback (most recent call last)",
      "\u001b[0;32m<ipython-input-83-2f95718972f8>\u001b[0m in \u001b[0;36m<module>\u001b[0;34m()\u001b[0m\n\u001b[1;32m      6\u001b[0m     \u001b[0;32mprint\u001b[0m \u001b[0;34m'nodes = '\u001b[0m\u001b[0;34m,\u001b[0m\u001b[0mnodes\u001b[0m\u001b[0;34m\u001b[0m\u001b[0m\n\u001b[1;32m      7\u001b[0m     \u001b[0;32mfor\u001b[0m \u001b[0mi\u001b[0m \u001b[0;32min\u001b[0m \u001b[0mrange\u001b[0m\u001b[0;34m(\u001b[0m\u001b[0mlen\u001b[0m\u001b[0;34m(\u001b[0m\u001b[0mnodes\u001b[0m\u001b[0;34m)\u001b[0m\u001b[0;34m)\u001b[0m\u001b[0;34m:\u001b[0m\u001b[0;34m\u001b[0m\u001b[0m\n\u001b[0;32m----> 8\u001b[0;31m         \u001b[0mMaskmap\u001b[0m\u001b[0;34m[\u001b[0m\u001b[0mnodes\u001b[0m\u001b[0;34m[\u001b[0m\u001b[0mi\u001b[0m\u001b[0;34m]\u001b[0m\u001b[0;34m[\u001b[0m\u001b[0;36m0\u001b[0m\u001b[0;34m]\u001b[0m\u001b[0;34m,\u001b[0m \u001b[0mnodes\u001b[0m\u001b[0;34m[\u001b[0m\u001b[0mi\u001b[0m\u001b[0;34m]\u001b[0m\u001b[0;34m[\u001b[0m\u001b[0;36m1\u001b[0m\u001b[0;34m]\u001b[0m\u001b[0;34m]\u001b[0m \u001b[0;34m=\u001b[0m \u001b[0;36m80\u001b[0m\u001b[0;34m\u001b[0m\u001b[0m\n\u001b[0m\u001b[1;32m      9\u001b[0m \u001b[0;34m\u001b[0m\u001b[0m\n\u001b[1;32m     10\u001b[0m     \u001b[0mplt\u001b[0m\u001b[0;34m.\u001b[0m\u001b[0mfigure\u001b[0m\u001b[0;34m(\u001b[0m\u001b[0mfigsize\u001b[0m\u001b[0;34m=\u001b[0m\u001b[0;34m(\u001b[0m\u001b[0;36m12\u001b[0m\u001b[0;34m,\u001b[0m\u001b[0;36m8\u001b[0m\u001b[0;34m)\u001b[0m\u001b[0;34m)\u001b[0m\u001b[0;34m\u001b[0m\u001b[0m\n",
      "\u001b[0;31mTypeError\u001b[0m: 'int' object has no attribute '__getitem__'"
     ]
    }
   ],
   "source": [
    "\n",
    "nodes =  rpmp.find_all_nodes(Maskmap2)\n",
    "if nodes[-1] == -1:\n",
    "    print 'error!'\n",
    "else:\n",
    "    print 'nodes = ',nodes\n",
    "    for i in range(len(nodes)): \n",
    "        Maskmap[nodes[i][0], nodes[i][1]] = 80\n",
    "\n",
    "    plt.figure(figsize=(12,8))\n",
    "    plt.imshow(Maskmap, origin='lower')\n",
    "    plt.show()"
   ]
  },
  {
   "cell_type": "code",
   "execution_count": 3,
   "metadata": {},
   "outputs": [
    {
     "name": "stdout",
     "output_type": "stream",
     "text": [
      "[]\n"
     ]
    },
    {
     "ename": "IndexError",
     "evalue": "list index out of range",
     "output_type": "error",
     "traceback": [
      "\u001b[0;31m---------------------------------------------------------------------------\u001b[0m",
      "\u001b[0;31mIndexError\u001b[0m                                Traceback (most recent call last)",
      "\u001b[0;32m<ipython-input-3-6149f4afa6cd>\u001b[0m in \u001b[0;36m<module>\u001b[0;34m()\u001b[0m\n\u001b[1;32m      2\u001b[0m \u001b[0mseq2\u001b[0m \u001b[0;34m=\u001b[0m \u001b[0mrpmp\u001b[0m\u001b[0;34m.\u001b[0m\u001b[0mfind_sequence_multiproc\u001b[0m\u001b[0;34m(\u001b[0m\u001b[0mlens\u001b[0m\u001b[0;34m,\u001b[0m \u001b[0mseq\u001b[0m\u001b[0;34m,\u001b[0m \u001b[0;36m1\u001b[0m\u001b[0;34m,\u001b[0m \u001b[0;36m0\u001b[0m\u001b[0;34m)\u001b[0m\u001b[0;34m\u001b[0m\u001b[0m\n\u001b[1;32m      3\u001b[0m \u001b[0;32mprint\u001b[0m \u001b[0mseq2\u001b[0m\u001b[0;34m\u001b[0m\u001b[0m\n\u001b[0;32m----> 4\u001b[0;31m \u001b[0;32mprint\u001b[0m \u001b[0mseq2\u001b[0m\u001b[0;34m[\u001b[0m\u001b[0;36m0\u001b[0m\u001b[0;34m]\u001b[0m\u001b[0;34m\u001b[0m\u001b[0m\n\u001b[0m",
      "\u001b[0;31mIndexError\u001b[0m: list index out of range"
     ]
    }
   ],
   "source": [
    "seq = [list(np.array([1,2,2,1]) - 1)]\n",
    "seq2 = rpmp.find_sequence_multiproc(lens, seq, 1, 0)\n",
    "print seq2\n",
    "print seq2[0]"
   ]
  },
  {
   "cell_type": "code",
   "execution_count": 5,
   "metadata": {},
   "outputs": [
    {
     "ename": "TypeError",
     "evalue": "'int' object has no attribute '__getitem__'",
     "output_type": "error",
     "traceback": [
      "\u001b[0;31m---------------------------------------------------------------------------\u001b[0m",
      "\u001b[0;31mTypeError\u001b[0m                                 Traceback (most recent call last)",
      "\u001b[0;32m<ipython-input-5-49968a849c48>\u001b[0m in \u001b[0;36m<module>\u001b[0;34m()\u001b[0m\n\u001b[1;32m      3\u001b[0m \u001b[0;34m\u001b[0m\u001b[0m\n\u001b[1;32m      4\u001b[0m \u001b[0;34m\u001b[0m\u001b[0m\n\u001b[0;32m----> 5\u001b[0;31m \u001b[0mMaskmap\u001b[0m\u001b[0;34m,\u001b[0m \u001b[0mToGo\u001b[0m \u001b[0;34m=\u001b[0m \u001b[0mrpmp\u001b[0m\u001b[0;34m.\u001b[0m\u001b[0mdo_fill\u001b[0m\u001b[0;34m(\u001b[0m\u001b[0mhist\u001b[0m\u001b[0;34m,\u001b[0m \u001b[0mlens\u001b[0m\u001b[0;34m)\u001b[0m\u001b[0;34m\u001b[0m\u001b[0m\n\u001b[0m\u001b[1;32m      6\u001b[0m \u001b[0;34m\u001b[0m\u001b[0m\n\u001b[1;32m      7\u001b[0m \u001b[0;34m\u001b[0m\u001b[0m\n",
      "\u001b[0;32m/Users/inchanji/Research/rect_packing/fill_rectangles_multiproc.py\u001b[0m in \u001b[0;36mdo_fill\u001b[0;34m(history, rectangles)\u001b[0m\n\u001b[1;32m    234\u001b[0m         \u001b[0;32mfor\u001b[0m \u001b[0mi\u001b[0m \u001b[0;32min\u001b[0m \u001b[0mrange\u001b[0m\u001b[0;34m(\u001b[0m\u001b[0mlen\u001b[0m\u001b[0;34m(\u001b[0m\u001b[0mhistory\u001b[0m\u001b[0;34m)\u001b[0m\u001b[0;34m)\u001b[0m\u001b[0;34m:\u001b[0m\u001b[0;34m\u001b[0m\u001b[0m\n\u001b[1;32m    235\u001b[0m                 \u001b[0mnode\u001b[0m    \u001b[0;34m=\u001b[0m \u001b[0mfind_all_nodes\u001b[0m\u001b[0;34m(\u001b[0m\u001b[0mrectangles\u001b[0m\u001b[0;34m.\u001b[0m\u001b[0mfieldmap\u001b[0m\u001b[0;34m)\u001b[0m\u001b[0;34m\u001b[0m\u001b[0m\n\u001b[0;32m--> 236\u001b[0;31m                 \u001b[0my_st\u001b[0m    \u001b[0;34m=\u001b[0m \u001b[0mnode\u001b[0m\u001b[0;34m[\u001b[0m\u001b[0;36m0\u001b[0m\u001b[0;34m]\u001b[0m\u001b[0;34m[\u001b[0m\u001b[0;36m0\u001b[0m\u001b[0;34m]\u001b[0m\u001b[0;34m;\u001b[0m \u001b[0mx_st\u001b[0m \u001b[0;34m=\u001b[0m \u001b[0mnode\u001b[0m\u001b[0;34m[\u001b[0m\u001b[0;36m0\u001b[0m\u001b[0;34m]\u001b[0m\u001b[0;34m[\u001b[0m\u001b[0;36m1\u001b[0m\u001b[0;34m]\u001b[0m\u001b[0;34m;\u001b[0m\u001b[0;34m\u001b[0m\u001b[0m\n\u001b[0m\u001b[1;32m    237\u001b[0m                 \u001b[0mWIDTH\u001b[0m   \u001b[0;34m=\u001b[0m \u001b[0mnode\u001b[0m\u001b[0;34m[\u001b[0m\u001b[0;36m1\u001b[0m\u001b[0;34m]\u001b[0m\u001b[0;34m[\u001b[0m\u001b[0;36m1\u001b[0m\u001b[0;34m]\u001b[0m \u001b[0;34m-\u001b[0m \u001b[0mnode\u001b[0m\u001b[0;34m[\u001b[0m\u001b[0;36m0\u001b[0m\u001b[0;34m]\u001b[0m\u001b[0;34m[\u001b[0m\u001b[0;36m1\u001b[0m\u001b[0;34m]\u001b[0m \u001b[0;34m+\u001b[0m \u001b[0;36m1\u001b[0m\u001b[0;34m;\u001b[0m\u001b[0;34m\u001b[0m\u001b[0m\n\u001b[1;32m    238\u001b[0m                 \u001b[0mHEIGHT\u001b[0m  \u001b[0;34m=\u001b[0m \u001b[0mrectangles\u001b[0m\u001b[0;34m.\u001b[0m\u001b[0mmaxh_map\u001b[0m \u001b[0;34m-\u001b[0m \u001b[0mnode\u001b[0m\u001b[0;34m[\u001b[0m\u001b[0;36m0\u001b[0m\u001b[0;34m]\u001b[0m\u001b[0;34m[\u001b[0m\u001b[0;36m0\u001b[0m\u001b[0;34m]\u001b[0m\u001b[0;34m\u001b[0m\u001b[0m\n",
      "\u001b[0;31mTypeError\u001b[0m: 'int' object has no attribute '__getitem__'"
     ]
    }
   ],
   "source": [
    "\n",
    "hist = seq2[0]\n",
    "\n",
    "\n",
    "Maskmap, ToGo = rpmp.do_fill(hist, lens)\n",
    "\n",
    "\n",
    "plt.figure(figsize=(12,8))\n",
    "plt.imshow(Maskmap, origin='lower')\n",
    "plt.show()\n",
    "\n"
   ]
  },
  {
   "cell_type": "code",
   "execution_count": 5,
   "metadata": {},
   "outputs": [
    {
     "data": {
      "image/png": "[encoded data removed]",
      "text/plain": [
       "<matplotlib.figure.Figure at 0x1090ab6d0>"
      ]
     },
     "metadata": {},
     "output_type": "display_data"
    },
    {
     "name": "stdout",
     "output_type": "stream",
     "text": [
      "True\n"
     ]
    }
   ],
   "source": [
    "\n",
    "hist = np.array([13 , 7,   8 ,  4  , 3 ,  13 , 16 , 6 ,  4,   12  ,14 , 10,  3]) - 1\n",
    "hist = np.array([1  , 2  , 14,  13])- 1\n",
    "#hist =  [0, 0, 0]\n",
    "\n",
    "Maskmap, ToGo = rpmp.do_fill(hist, lens)\n",
    "\n",
    "\n",
    "plt.figure(figsize=(12,8))\n",
    "plt.imshow(Maskmap, origin='lower')\n",
    "plt.show()\n",
    "print ToGo\n"
   ]
  },
  {
   "cell_type": "code",
   "execution_count": 41,
   "metadata": {},
   "outputs": [
    {
     "name": "stdout",
     "output_type": "stream",
     "text": [
      "nodes =  [(26, 0), (26, 94), (89, 94), (89, 0)]\n"
     ]
    },
    {
     "data": {
      "image/png": "[encoded data removed]",
      "text/plain": [
       "<matplotlib.figure.Figure at 0x1a1cf19150>"
      ]
     },
     "metadata": {},
     "output_type": "display_data"
    }
   ],
   "source": [
    "\n",
    "nodes =  rpmp.find_all_nodes(Maskmap)\n",
    "if nodes[-1] == -1:\n",
    "    print 'error!'\n",
    "else:\n",
    "    print 'nodes = ',nodes\n",
    "    for i in range(len(nodes)): \n",
    "        Maskmap[nodes[i][0], nodes[i][1]] = 80\n",
    "\n",
    "    plt.figure(figsize=(12,8))\n",
    "    plt.imshow(Maskmap, origin='lower')\n",
    "    plt.show()"
   ]
  },
  {
   "cell_type": "code",
   "execution_count": 5,
   "metadata": {},
   "outputs": [
    {
     "data": {
      "text/plain": [
       "12"
      ]
     },
     "execution_count": 5,
     "metadata": {},
     "output_type": "execute_result"
    }
   ],
   "source": [
    "Maskmap[51,40]"
   ]
  },
  {
   "cell_type": "code",
   "execution_count": 2,
   "metadata": {},
   "outputs": [
    {
     "data": {
      "image/png": "[encoded data removed]",
      "text/plain": [
       "<matplotlib.figure.Figure at 0x10cc3a6d0>"
      ]
     },
     "metadata": {},
     "output_type": "display_data"
    },
    {
     "name": "stdout",
     "output_type": "stream",
     "text": [
      "  find nodes (new method)\n",
      "  0.001 sec.\n"
     ]
    },
    {
     "data": {
      "image/png": "[encoded data removed]",
      "text/plain": [
       "<matplotlib.figure.Figure at 0x1a16e98d50>"
      ]
     },
     "metadata": {},
     "output_type": "display_data"
    }
   ],
   "source": [
    "\n",
    "Maskmap = np.zeros((20,20))\n",
    "#Maskmap[:5,:10] = 10\n",
    "Maskmap[:5,:10] = 10; Maskmap[:10,10:13]  = 10; Maskmap[:,:2] = 10\n",
    "plt.figure(figsize=(12,8))\n",
    "plt.imshow(Maskmap, origin='lower')\n",
    "plt.show()\n",
    "\n",
    "\n",
    "nodes =  rp.find_all_nodes(Maskmap)\n",
    "for i in range(len(nodes)): \n",
    "    Maskmap[nodes[i][0], nodes[i][1]] = 80\n",
    "\n",
    "plt.figure(figsize=(12,8))\n",
    "plt.imshow(Maskmap, origin='lower')\n",
    "plt.show()"
   ]
  },
  {
   "cell_type": "code",
   "execution_count": 15,
   "metadata": {},
   "outputs": [
    {
     "name": "stdout",
     "output_type": "stream",
     "text": [
      "6.27710173539e+47\n"
     ]
    }
   ],
   "source": [
    "N = 150 * 200 / (25*25)\n",
    "print 16**N / 1e10"
   ]
  },
  {
   "cell_type": "code",
   "execution_count": 3,
   "metadata": {},
   "outputs": [],
   "source": [
    "width = 150;  height = 200;\n",
    "x1d   = np.arange(width); y1d = np.arange(height); \n",
    "x2d, y2d = np.meshgrid(x1d, y1d) \n",
    "Maskmap0 = np.zeros((height,width), dtype = int)"
   ]
  },
  {
   "cell_type": "code",
   "execution_count": 4,
   "metadata": {},
   "outputs": [
    {
     "name": "stdout",
     "output_type": "stream",
     "text": [
      "initializing global parameters...\n",
      "16 [(28, 28), (26, 25), (25, 26), (20, 26), (23, 28), (26, 27), (27, 24), (27, 27), (20, 28), (24, 27), (26, 26), (26, 18), (24, 18), (24, 24), (23, 24), (26, 24)] [0, 0, 0, 0, 0, 0, 0, 0, 0, 0, 0, 0, 0, 0, 0, 0] [1, 2, 3, 4, 5, 6, 7, 8, 9, 10, 11, 12, 13, 14, 15, 16]\n"
     ]
    }
   ],
   "source": [
    "lens = rp.rectangles()\n",
    "lens.add(28,28); lens.add(26,25); lens.add(25,26);\n",
    "lens.add(20,26); lens.add(23,28); lens.add(26,27);\n",
    "lens.add(27,24); lens.add(27,27); lens.add(20,28); \n",
    "lens.add(24,27); lens.add(26,26); lens.add(26,18);\n",
    "lens.add(24,18); lens.add(24,24); lens.add(23,24);\n",
    "lens.add(26,24);\n",
    "\n",
    "print lens.Ntype, lens.type, lens.Nused, lens.ID"
   ]
  },
  {
   "cell_type": "code",
   "execution_count": 5,
   "metadata": {},
   "outputs": [
    {
     "data": {
      "image/png": "[encoded data removed]",
      "text/plain": [
       "<matplotlib.figure.Figure at 0x1a16ff0b50>"
      ]
     },
     "metadata": {},
     "output_type": "display_data"
    },
    {
     "name": "stdout",
     "output_type": "stream",
     "text": [
      "  find nodes (new method)\n",
      "  0.000 sec.\n",
      "nodes :  4 [(0, 0), (0, 149), (199, 149), (199, 0)]\n"
     ]
    },
    {
     "data": {
      "image/png": "[encoded data removed]",
      "text/plain": [
       "<matplotlib.figure.Figure at 0x1a1733da90>"
      ]
     },
     "metadata": {},
     "output_type": "display_data"
    },
    {
     "name": "stdout",
     "output_type": "stream",
     "text": [
      "nodes to fill, size:  [(0, 0), (27, 149)] (28, 150)\n",
      "all lens types [(28, 28), (26, 25), (25, 26), (20, 26), (23, 28), (26, 27), (27, 24), (27, 27), (20, 28), (24, 27), (26, 26), (26, 18), (24, 18), (24, 24), (23, 24), (26, 24)]\n",
      "fillable?  [True, True, True, True, True, True, True, True, True, True, True, True, True, True, True, True]\n"
     ]
    }
   ],
   "source": [
    "Maskmap = Maskmap0.copy()\n",
    "plt.figure(figsize=(5,7))\n",
    "plt.imshow(Maskmap, origin='lower')\n",
    "plt.show()\n",
    "nodes = rp.find_all_nodes(Maskmap)\n",
    "print 'nodes : ',len(nodes), nodes\n",
    "Nodemap = Maskmap.copy()\n",
    "for i in range(len(nodes)): Nodemap[nodes[i]] = 80\n",
    "plt.figure(figsize=(5,7))\n",
    "plt.imshow(Nodemap,origin='lower')\n",
    "plt.show()\n",
    "_, area = rp.find_nodes_to_fill(nodes,lens)\n",
    "print 'nodes to fill, size: ', _, area\n",
    "print 'all lens types', lens.type\n",
    "print 'fillable? ',rp.find_fillable_types(lens.type,area)\n"
   ]
  },
  {
   "cell_type": "code",
   "execution_count": 6,
   "metadata": {
    "scrolled": false
   },
   "outputs": [
    {
     "name": "stdout",
     "output_type": "stream",
     "text": [
      "# step : 0\n",
      "  ** fill multiple types at one **\n",
      "  find nodes (new method)\n",
      "  0.000 sec.\n",
      "[8, 6, 1, 11, 5, 4] 0 150\n"
     ]
    },
    {
     "data": {
      "image/png": "[encoded data removed]",
      "text/plain": [
       "<matplotlib.figure.Figure at 0x10cbfce10>"
      ]
     },
     "metadata": {},
     "output_type": "display_data"
    },
    {
     "name": "stdout",
     "output_type": "stream",
     "text": [
      "  find nodes (new method)\n",
      "  0.001 sec.\n"
     ]
    },
    {
     "data": {
      "image/png": "[encoded data removed]",
      "text/plain": [
       "<matplotlib.figure.Figure at 0x1a175fc210>"
      ]
     },
     "metadata": {},
     "output_type": "display_data"
    },
    {
     "name": "stdout",
     "output_type": "stream",
     "text": [
      "# step : 6\n",
      "  find all nodes   find nodes (new method)\n",
      "  0.001 sec.\n",
      "  Starting node =  (20, 0)   (FILL_HEIGHT, FILL_WIDTH) =  (False, True)\n",
      "  filling out one type\n",
      "  avail. types:  [(28, 28), (23, 28), (20, 28)]\n",
      "  ID_bottom =  8 (20, 28)\n",
      "  will use : (28, 28)\n"
     ]
    },
    {
     "data": {
      "image/png": "[encoded data removed]",
      "text/plain": [
       "<matplotlib.figure.Figure at 0x1a16ffd550>"
      ]
     },
     "metadata": {},
     "output_type": "display_data"
    },
    {
     "name": "stdout",
     "output_type": "stream",
     "text": [
      "  find nodes (new method)\n",
      "  0.003 sec.\n"
     ]
    },
    {
     "data": {
      "image/png": "[encoded data removed]",
      "text/plain": [
       "<matplotlib.figure.Figure at 0x1a1741e9d0>"
      ]
     },
     "metadata": {},
     "output_type": "display_data"
    },
    {
     "name": "stdout",
     "output_type": "stream",
     "text": [
      "# step : 7\n",
      "  find all nodes   find nodes (new method)\n",
      "  0.003 sec.\n",
      "  Starting node =  (23, 122)   (FILL_HEIGHT, FILL_WIDTH) =  (False, True)\n",
      "  filling out one type\n",
      "  avail. types:  [(28, 28), (23, 28), (20, 28)]\n",
      "  ID_bottom =  4 (23, 28)\n",
      "  will use : (20, 28)\n"
     ]
    },
    {
     "data": {
      "image/png": "[encoded data removed]",
      "text/plain": [
       "<matplotlib.figure.Figure at 0x1a1754cf90>"
      ]
     },
     "metadata": {},
     "output_type": "display_data"
    },
    {
     "name": "stdout",
     "output_type": "stream",
     "text": [
      "  find nodes (new method)\n",
      "  0.007 sec.\n"
     ]
    },
    {
     "data": {
      "image/png": "[encoded data removed]",
      "text/plain": [
       "<matplotlib.figure.Figure at 0x1a16ed3a50>"
      ]
     },
     "metadata": {},
     "output_type": "display_data"
    },
    {
     "name": "stdout",
     "output_type": "stream",
     "text": [
      "# step : 8\n",
      "  find all nodes   find nodes (new method)\n",
      "  0.014 sec.\n",
      "  Starting node =  (26, 52)   (FILL_HEIGHT, FILL_WIDTH) =  (False, False)\n",
      "  avail. types:  [(28, 28), (26, 25), (25, 26), (20, 26), (23, 28), (26, 27), (27, 24), (27, 27), (20, 28), (24, 27), (26, 26), (26, 18), (24, 18), (24, 24), (23, 24), (26, 24)]\n",
      "  ID_bottom =  1 (26, 25)\n",
      "  will use : (20, 26)\n"
     ]
    },
    {
     "data": {
      "image/png": "[encoded data removed]",
      "text/plain": [
       "<matplotlib.figure.Figure at 0x1a1658be90>"
      ]
     },
     "metadata": {},
     "output_type": "display_data"
    },
    {
     "name": "stdout",
     "output_type": "stream",
     "text": [
      "  find nodes (new method)\n",
      "  0.002 sec.\n"
     ]
    },
    {
     "data": {
      "image/png": "[encoded data removed]",
      "text/plain": [
       "<matplotlib.figure.Figure at 0x1a16fbc3d0>"
      ]
     },
     "metadata": {},
     "output_type": "display_data"
    },
    {
     "name": "stdout",
     "output_type": "stream",
     "text": [
      "# step : 9\n",
      "  find all nodes   find nodes (new method)\n",
      "  0.005 sec.\n",
      "  Starting node =  (26, 78)   (FILL_HEIGHT, FILL_WIDTH) =  (False, True)\n",
      "  filling out two types\n"
     ]
    },
    {
     "data": {
      "image/png": "[encoded data removed]",
      "text/plain": [
       "<matplotlib.figure.Figure at 0x1a17363210>"
      ]
     },
     "metadata": {},
     "output_type": "display_data"
    },
    {
     "name": "stdout",
     "output_type": "stream",
     "text": [
      "  find nodes (new method)\n",
      "  0.002 sec.\n"
     ]
    },
    {
     "data": {
      "image/png": "[encoded data removed]",
      "text/plain": [
       "<matplotlib.figure.Figure at 0x1a172635d0>"
      ]
     },
     "metadata": {},
     "output_type": "display_data"
    },
    {
     "name": "stdout",
     "output_type": "stream",
     "text": [
      "# step : 9\n",
      "  find all nodes   find nodes (new method)\n",
      "  0.006 sec.\n",
      "  Starting node =  (26, 78)   (FILL_HEIGHT, FILL_WIDTH) =  (False, True)\n",
      "  filling out two types\n"
     ]
    },
    {
     "data": {
      "image/png": "[encoded data removed]",
      "text/plain": [
       "<matplotlib.figure.Figure at 0x1a16ace190>"
      ]
     },
     "metadata": {},
     "output_type": "display_data"
    },
    {
     "name": "stdout",
     "output_type": "stream",
     "text": [
      "  find nodes (new method)\n",
      "  0.002 sec.\n"
     ]
    },
    {
     "data": {
      "image/png": "[encoded data removed]",
      "text/plain": [
       "<matplotlib.figure.Figure at 0x1a16bce410>"
      ]
     },
     "metadata": {},
     "output_type": "display_data"
    },
    {
     "name": "stdout",
     "output_type": "stream",
     "text": [
      "# step : 9\n",
      "  find all nodes   find nodes (new method)\n",
      "  0.003 sec.\n",
      "  Starting node =  (26, 78)   (FILL_HEIGHT, FILL_WIDTH) =  (False, True)\n",
      "  filling out two types\n"
     ]
    },
    {
     "data": {
      "image/png": "[encoded data removed]",
      "text/plain": [
       "<matplotlib.figure.Figure at 0x1a16ffea90>"
      ]
     },
     "metadata": {},
     "output_type": "display_data"
    },
    {
     "name": "stdout",
     "output_type": "stream",
     "text": [
      "  find nodes (new method)\n",
      "  0.009 sec.\n"
     ]
    },
    {
     "data": {
      "image/png": "[encoded data removed]",
      "text/plain": [
       "<matplotlib.figure.Figure at 0x1a16e14890>"
      ]
     },
     "metadata": {},
     "output_type": "display_data"
    },
    {
     "name": "stdout",
     "output_type": "stream",
     "text": [
      "# step : 9\n",
      "  find all nodes   find nodes (new method)\n",
      "  0.002 sec.\n",
      "  Starting node =  (26, 78)   (FILL_HEIGHT, FILL_WIDTH) =  (False, True)\n",
      "  filling out two types\n"
     ]
    },
    {
     "data": {
      "image/png": "[encoded data removed]",
      "text/plain": [
       "<matplotlib.figure.Figure at 0x1a17087510>"
      ]
     },
     "metadata": {},
     "output_type": "display_data"
    },
    {
     "name": "stdout",
     "output_type": "stream",
     "text": [
      "  find nodes (new method)\n",
      "  0.002 sec.\n"
     ]
    },
    {
     "data": {
      "image/png": "[encoded data removed]",
      "text/plain": [
       "<matplotlib.figure.Figure at 0x1a16c9f1d0>"
      ]
     },
     "metadata": {},
     "output_type": "display_data"
    },
    {
     "name": "stdout",
     "output_type": "stream",
     "text": [
      "# step : 9\n",
      "  find all nodes   find nodes (new method)\n",
      "  0.004 sec.\n",
      "  Starting node =  (26, 78)   (FILL_HEIGHT, FILL_WIDTH) =  (False, True)\n",
      "  filling out two types\n"
     ]
    },
    {
     "data": {
      "image/png": "[encoded data removed]",
      "text/plain": [
       "<matplotlib.figure.Figure at 0x107ea0390>"
      ]
     },
     "metadata": {},
     "output_type": "display_data"
    },
    {
     "name": "stdout",
     "output_type": "stream",
     "text": [
      "  find nodes (new method)\n",
      "  0.005 sec.\n"
     ]
    },
    {
     "data": {
      "image/png": "[encoded data removed]",
      "text/plain": [
       "<matplotlib.figure.Figure at 0x1a1752fdd0>"
      ]
     },
     "metadata": {},
     "output_type": "display_data"
    },
    {
     "name": "stdout",
     "output_type": "stream",
     "text": [
      "# step : 9\n",
      "  find all nodes   find nodes (new method)\n",
      "  0.009 sec.\n",
      "  Starting node =  (26, 78)   (FILL_HEIGHT, FILL_WIDTH) =  (False, True)\n",
      "  filling out two types\n"
     ]
    },
    {
     "data": {
      "image/png": "[encoded data removed]",
      "text/plain": [
       "<matplotlib.figure.Figure at 0x1a16e2b0d0>"
      ]
     },
     "metadata": {},
     "output_type": "display_data"
    },
    {
     "name": "stdout",
     "output_type": "stream",
     "text": [
      "  find nodes (new method)\n",
      "  0.002 sec.\n"
     ]
    },
    {
     "data": {
      "image/png": "[encoded data removed]",
      "text/plain": [
       "<matplotlib.figure.Figure at 0x1a16fa8fd0>"
      ]
     },
     "metadata": {},
     "output_type": "display_data"
    },
    {
     "name": "stdout",
     "output_type": "stream",
     "text": [
      "# step : 9\n",
      "  find all nodes   find nodes (new method)\n",
      "  0.003 sec.\n",
      "  Starting node =  (26, 78)   (FILL_HEIGHT, FILL_WIDTH) =  (False, True)\n",
      "  filling out two types\n"
     ]
    },
    {
     "data": {
      "image/png": "[encoded data removed]",
      "text/plain": [
       "<matplotlib.figure.Figure at 0x1a17796490>"
      ]
     },
     "metadata": {},
     "output_type": "display_data"
    },
    {
     "name": "stdout",
     "output_type": "stream",
     "text": [
      "  find nodes (new method)\n",
      "  0.002 sec.\n"
     ]
    },
    {
     "data": {
      "image/png": "[encoded data removed]",
      "text/plain": [
       "<matplotlib.figure.Figure at 0x1a16d3f1d0>"
      ]
     },
     "metadata": {},
     "output_type": "display_data"
    },
    {
     "name": "stdout",
     "output_type": "stream",
     "text": [
      "# step : 9\n",
      "  find all nodes   find nodes (new method)\n",
      "  0.003 sec.\n",
      "  Starting node =  (26, 78)   (FILL_HEIGHT, FILL_WIDTH) =  (False, True)\n",
      "  filling out two types\n"
     ]
    },
    {
     "data": {
      "image/png": "[encoded data removed]",
      "text/plain": [
       "<matplotlib.figure.Figure at 0x1a17414650>"
      ]
     },
     "metadata": {},
     "output_type": "display_data"
    },
    {
     "name": "stdout",
     "output_type": "stream",
     "text": [
      "  find nodes (new method)\n",
      "  0.001 sec.\n"
     ]
    },
    {
     "data": {
      "image/png": "[encoded data removed]",
      "text/plain": [
       "<matplotlib.figure.Figure at 0x1a17622650>"
      ]
     },
     "metadata": {},
     "output_type": "display_data"
    },
    {
     "name": "stdout",
     "output_type": "stream",
     "text": [
      "# step : 9\n",
      "  find all nodes   find nodes (new method)\n",
      "  0.003 sec.\n",
      "  Starting node =  (26, 78)   (FILL_HEIGHT, FILL_WIDTH) =  (False, True)\n",
      "  filling out two types\n"
     ]
    },
    {
     "data": {
      "image/png": "[encoded data removed]",
      "text/plain": [
       "<matplotlib.figure.Figure at 0x1a17402710>"
      ]
     },
     "metadata": {},
     "output_type": "display_data"
    },
    {
     "name": "stdout",
     "output_type": "stream",
     "text": [
      "  find nodes (new method)\n",
      "  0.013 sec.\n"
     ]
    },
    {
     "data": {
      "image/png": "[encoded data removed]",
      "text/plain": [
       "<matplotlib.figure.Figure at 0x1a16ae8f90>"
      ]
     },
     "metadata": {},
     "output_type": "display_data"
    },
    {
     "name": "stdout",
     "output_type": "stream",
     "text": [
      "# step : 9\n",
      "  find all nodes   find nodes (new method)\n",
      "  0.002 sec.\n",
      "  Starting node =  (26, 78)   (FILL_HEIGHT, FILL_WIDTH) =  (False, True)\n",
      "  filling out two types\n"
     ]
    },
    {
     "data": {
      "image/png": "[encoded data removed]",
      "text/plain": [
       "<matplotlib.figure.Figure at 0x1a1745dc50>"
      ]
     },
     "metadata": {},
     "output_type": "display_data"
    },
    {
     "name": "stdout",
     "output_type": "stream",
     "text": [
      "  find nodes (new method)\n",
      "  0.001 sec.\n"
     ]
    },
    {
     "data": {
      "image/png": "[encoded data removed]",
      "text/plain": [
       "<matplotlib.figure.Figure at 0x1a16eded10>"
      ]
     },
     "metadata": {},
     "output_type": "display_data"
    },
    {
     "name": "stdout",
     "output_type": "stream",
     "text": [
      "# step : 9\n",
      "  find all nodes   find nodes (new method)\n",
      "  0.010 sec.\n",
      "  Starting node =  (26, 78)   (FILL_HEIGHT, FILL_WIDTH) =  (False, True)\n",
      "  filling out two types\n"
     ]
    },
    {
     "data": {
      "image/png": "[encoded data removed]",
      "text/plain": [
       "<matplotlib.figure.Figure at 0x10cc4e210>"
      ]
     },
     "metadata": {},
     "output_type": "display_data"
    },
    {
     "name": "stdout",
     "output_type": "stream",
     "text": [
      "  find nodes (new method)\n",
      "  0.004 sec.\n"
     ]
    },
    {
     "data": {
      "image/png": "[encoded data removed]",
      "text/plain": [
       "<matplotlib.figure.Figure at 0x1a1755c1d0>"
      ]
     },
     "metadata": {},
     "output_type": "display_data"
    },
    {
     "name": "stdout",
     "output_type": "stream",
     "text": [
      "# step : 9\n",
      "  find all nodes   find nodes (new method)\n",
      "  0.004 sec.\n",
      "  Starting node =  (26, 78)   (FILL_HEIGHT, FILL_WIDTH) =  (False, True)\n",
      "  filling out two types\n"
     ]
    },
    {
     "data": {
      "image/png": "[encoded data removed]",
      "text/plain": [
       "<matplotlib.figure.Figure at 0x1a1761d790>"
      ]
     },
     "metadata": {},
     "output_type": "display_data"
    },
    {
     "name": "stdout",
     "output_type": "stream",
     "text": [
      "  find nodes (new method)\n",
      "  0.004 sec.\n"
     ]
    },
    {
     "data": {
      "image/png": "[encoded data removed]",
      "text/plain": [
       "<matplotlib.figure.Figure at 0x1a170225d0>"
      ]
     },
     "metadata": {},
     "output_type": "display_data"
    },
    {
     "name": "stdout",
     "output_type": "stream",
     "text": [
      "# step : 9\n",
      "  find all nodes   find nodes (new method)\n",
      "  0.001 sec.\n",
      "  Starting node =  (26, 78)   (FILL_HEIGHT, FILL_WIDTH) =  (False, True)\n",
      "  filling out two types\n"
     ]
    },
    {
     "data": {
      "image/png": "[encoded data removed]",
      "text/plain": [
       "<matplotlib.figure.Figure at 0x1a1741e450>"
      ]
     },
     "metadata": {},
     "output_type": "display_data"
    },
    {
     "name": "stdout",
     "output_type": "stream",
     "text": [
      "  find nodes (new method)\n",
      "  0.002 sec.\n"
     ]
    },
    {
     "data": {
      "image/png": "[encoded data removed]",
      "text/plain": [
       "<matplotlib.figure.Figure at 0x1a177815d0>"
      ]
     },
     "metadata": {},
     "output_type": "display_data"
    },
    {
     "name": "stdout",
     "output_type": "stream",
     "text": [
      "# step : 9\n",
      "  find all nodes   find nodes (new method)\n",
      "  0.014 sec.\n",
      "  Starting node =  (26, 78)   (FILL_HEIGHT, FILL_WIDTH) =  (False, True)\n",
      "  filling out two types\n"
     ]
    },
    {
     "data": {
      "image/png": "[encoded data removed]",
      "text/plain": [
       "<matplotlib.figure.Figure at 0x1a17793650>"
      ]
     },
     "metadata": {},
     "output_type": "display_data"
    },
    {
     "name": "stdout",
     "output_type": "stream",
     "text": [
      "  find nodes (new method)\n",
      "  0.002 sec.\n"
     ]
    },
    {
     "data": {
      "image/png": "[encoded data removed]",
      "text/plain": [
       "<matplotlib.figure.Figure at 0x1a16d80dd0>"
      ]
     },
     "metadata": {},
     "output_type": "display_data"
    },
    {
     "name": "stdout",
     "output_type": "stream",
     "text": [
      "# step : 9\n",
      "  find all nodes   find nodes (new method)\n",
      "  0.003 sec.\n",
      "  Starting node =  (26, 78)   (FILL_HEIGHT, FILL_WIDTH) =  (False, True)\n",
      "  filling out two types\n"
     ]
    },
    {
     "data": {
      "image/png": "[encoded data removed]",
      "text/plain": [
       "<matplotlib.figure.Figure at 0x1a16cae790>"
      ]
     },
     "metadata": {},
     "output_type": "display_data"
    },
    {
     "name": "stdout",
     "output_type": "stream",
     "text": [
      "  find nodes (new method)\n",
      "  0.003 sec.\n"
     ]
    },
    {
     "data": {
      "image/png": "[encoded data removed]",
      "text/plain": [
       "<matplotlib.figure.Figure at 0x10cbfcc90>"
      ]
     },
     "metadata": {},
     "output_type": "display_data"
    },
    {
     "name": "stdout",
     "output_type": "stream",
     "text": [
      "# step : 9\n",
      "  find all nodes   find nodes (new method)\n",
      "  0.002 sec.\n",
      "  Starting node =  (26, 78)   (FILL_HEIGHT, FILL_WIDTH) =  (False, True)\n",
      "  filling out two types\n"
     ]
    },
    {
     "data": {
      "image/png": "[encoded data removed]",
      "text/plain": [
       "<matplotlib.figure.Figure at 0x1a17008c50>"
      ]
     },
     "metadata": {},
     "output_type": "display_data"
    },
    {
     "name": "stdout",
     "output_type": "stream",
     "text": [
      "  find nodes (new method)\n",
      "  0.002 sec.\n"
     ]
    },
    {
     "data": {
      "image/png": "[encoded data removed]",
      "text/plain": [
       "<matplotlib.figure.Figure at 0x1a1752f290>"
      ]
     },
     "metadata": {},
     "output_type": "display_data"
    }
   ],
   "source": [
    "\n",
    "for num in range(20):\n",
    "    Maskmap,lens = rp.do_fill_demo(Maskmap,lens)\n",
    "    plt.figure(figsize=(8,5))\n",
    "    plt.imshow(Maskmap, origin='lower')\n",
    "    plt.show()    \n",
    "    Nodemap = Maskmap.copy()\n",
    "    nodes = rp.find_all_nodes(Nodemap)\n",
    "    for i in range(len(nodes)): Nodemap[nodes[i]] = 80\n",
    "    plt.figure(figsize=(8,5))\n",
    "    plt.imshow(Nodemap,origin='lower')\n",
    "    plt.show()\n",
    "\n",
    "    #time.sleep(2)"
   ]
  },
  {
   "cell_type": "code",
   "execution_count": null,
   "metadata": {},
   "outputs": [],
   "source": [
    "Maskmap,lens = rp.do_fill_demo(Maskmap,lens)\n",
    "plt.figure(figsize=(12,8))\n",
    "plt.imshow(Maskmap, origin='lower')\n",
    "plt.show()\n",
    "\n",
    "Nodemap = Maskmap.copy()\n",
    "nodes = rp.find_all_nodes(Nodemap)\n",
    "for i in range(len(nodes)): Nodemap[nodes[i]] = 80\n",
    "plt.figure(figsize=(12,8))\n",
    "plt.imshow(Nodemap,origin='lower')\n",
    "plt.show()"
   ]
  },
  {
   "cell_type": "code",
   "execution_count": 8,
   "metadata": {},
   "outputs": [
    {
     "name": "stdout",
     "output_type": "stream",
     "text": [
      "# step : 28\n",
      "  find all nodes   find nodes (new method)\n",
      "  0.003 sec.\n",
      "  Starting node =  (104, 78)   (FILL_HEIGHT, FILL_WIDTH) =  (False, True)\n",
      "  filling out one type\n",
      "  avail. types:  [(25, 26), (20, 26), (26, 26)]\n",
      "  ID_bottom =  10 (26, 26)\n",
      "  will use : (25, 26)\n"
     ]
    },
    {
     "data": {
      "image/png": "[encoded data removed]",
      "text/plain": [
       "<matplotlib.figure.Figure at 0x1a17d7b150>"
      ]
     },
     "metadata": {},
     "output_type": "display_data"
    },
    {
     "name": "stdout",
     "output_type": "stream",
     "text": [
      "  find nodes (new method)\n",
      "  0.003 sec.\n"
     ]
    },
    {
     "data": {
      "image/png": "[encoded data removed]",
      "text/plain": [
       "<matplotlib.figure.Figure at 0x1a17d81190>"
      ]
     },
     "metadata": {},
     "output_type": "display_data"
    }
   ],
   "source": [
    "Maskmap,lens = rp.do_fill_demo(Maskmap,lens)\n",
    "plt.figure(figsize=(12,8))\n",
    "plt.imshow(Maskmap, origin='lower')\n",
    "plt.show()\n",
    "\n",
    "Nodemap = Maskmap.copy()\n",
    "nodes = rp.find_all_nodes(Nodemap)\n",
    "for i in range(len(nodes)): Nodemap[nodes[i]] = 80\n",
    "plt.figure(figsize=(12,8))\n",
    "plt.imshow(Nodemap,origin='lower')\n",
    "plt.show()"
   ]
  },
  {
   "cell_type": "code",
   "execution_count": 9,
   "metadata": {},
   "outputs": [
    {
     "name": "stdout",
     "output_type": "stream",
     "text": [
      "# step : 29\n",
      "  find all nodes   find nodes (new method)\n",
      "  0.003 sec.\n",
      "  Starting node =  (105, 53)   (FILL_HEIGHT, FILL_WIDTH) =  (True, True)\n",
      "  packing one type\n",
      "  avail. types:  []\n",
      "  ID_bottom =  1 (26, 25)\n",
      "  no types to pack... find types to pack horizontally\n",
      "  will use : (26, 25)\n"
     ]
    },
    {
     "data": {
      "image/png": "[encoded data removed]",
      "text/plain": [
       "<matplotlib.figure.Figure at 0x1a18178150>"
      ]
     },
     "metadata": {},
     "output_type": "display_data"
    },
    {
     "name": "stdout",
     "output_type": "stream",
     "text": [
      "  find nodes (new method)\n",
      "  0.002 sec.\n"
     ]
    },
    {
     "data": {
      "image/png": "[encoded data removed]",
      "text/plain": [
       "<matplotlib.figure.Figure at 0x1a17cbdf10>"
      ]
     },
     "metadata": {},
     "output_type": "display_data"
    }
   ],
   "source": [
    "rp.do_fill_demo(Maskmap,lens)\n",
    "plt.figure(figsize=(12,8))\n",
    "plt.imshow(Maskmap, origin='lower')\n",
    "plt.show()\n",
    "Nodemap = Maskmap.copy()\n",
    "nodes = rp.find_all_nodes(Nodemap)\n",
    "for i in range(len(nodes)): Nodemap[nodes[i]] = 80\n",
    "plt.figure(figsize=(12,8))\n",
    "plt.imshow(Nodemap,origin='lower')\n",
    "plt.show()"
   ]
  },
  {
   "cell_type": "code",
   "execution_count": 10,
   "metadata": {
    "scrolled": false
   },
   "outputs": [
    {
     "name": "stdout",
     "output_type": "stream",
     "text": [
      "# step : 30\n",
      "  find all nodes   find nodes (new method)\n",
      "  0.003 sec.\n",
      "  Starting node =  (117, 0)   (FILL_HEIGHT, FILL_WIDTH) =  (False, True)\n",
      "  filling out one type\n",
      "  avail. types:  [(25, 26), (20, 26), (26, 26)]\n",
      "  ID_bottom =  2 (25, 26)\n",
      "  will use : (20, 26)\n"
     ]
    },
    {
     "data": {
      "image/png": "[encoded data removed]",
      "text/plain": [
       "<matplotlib.figure.Figure at 0x1a17974290>"
      ]
     },
     "metadata": {},
     "output_type": "display_data"
    },
    {
     "name": "stdout",
     "output_type": "stream",
     "text": [
      "  find nodes (new method)\n",
      "  0.004 sec.\n"
     ]
    },
    {
     "data": {
      "image/png": "[encoded data removed]",
      "text/plain": [
       "<matplotlib.figure.Figure at 0x1a17ced7d0>"
      ]
     },
     "metadata": {},
     "output_type": "display_data"
    }
   ],
   "source": [
    "rp.do_fill_demo(Maskmap,lens)\n",
    "plt.figure(figsize=(12,8))\n",
    "plt.imshow(Maskmap, origin='lower')\n",
    "plt.show()\n",
    "Nodemap = Maskmap.copy()\n",
    "nodes = rp.find_all_nodes(Nodemap)\n",
    "for i in range(len(nodes)): Nodemap[nodes[i]] = 80\n",
    "plt.figure(figsize=(12,8))\n",
    "plt.imshow(Nodemap,origin='lower')\n",
    "plt.show()"
   ]
  },
  {
   "cell_type": "code",
   "execution_count": 11,
   "metadata": {},
   "outputs": [
    {
     "name": "stdout",
     "output_type": "stream",
     "text": [
      "# step : 31\n",
      "  find all nodes   find nodes (new method)\n",
      "  0.003 sec.\n",
      "  Starting node =  (124, 104)   (FILL_HEIGHT, FILL_WIDTH) =  (False, True)\n",
      "  filling out one type\n",
      "  avail. types:  [(26, 18), (24, 18)]\n",
      "  ID_bottom =  12 (24, 18)\n",
      "  will use : (24, 18)\n"
     ]
    },
    {
     "data": {
      "image/png": "[encoded data removed]",
      "text/plain": [
       "<matplotlib.figure.Figure at 0x1a1839c890>"
      ]
     },
     "metadata": {},
     "output_type": "display_data"
    },
    {
     "name": "stdout",
     "output_type": "stream",
     "text": [
      "  find nodes (new method)\n",
      "  0.004 sec.\n"
     ]
    },
    {
     "data": {
      "image/png": "[encoded data removed]",
      "text/plain": [
       "<matplotlib.figure.Figure at 0x1a182356d0>"
      ]
     },
     "metadata": {},
     "output_type": "display_data"
    }
   ],
   "source": [
    "rp.do_fill_demo(Maskmap,lens)\n",
    "plt.figure(figsize=(12,8))\n",
    "plt.imshow(Maskmap, origin='lower')\n",
    "plt.show()\n",
    "Nodemap = Maskmap.copy()\n",
    "nodes = rp.find_all_nodes(Nodemap)\n",
    "for i in range(len(nodes)): Nodemap[nodes[i]] = 80\n",
    "plt.figure(figsize=(12,8))\n",
    "plt.imshow(Nodemap,origin='lower')\n",
    "plt.show()"
   ]
  },
  {
   "cell_type": "code",
   "execution_count": 14,
   "metadata": {},
   "outputs": [
    {
     "name": "stdout",
     "output_type": "stream",
     "text": [
      "# step : 13\n",
      "  find all nodes   find nodes (new method)\n",
      "  0.002 sec.\n",
      "  ** warning ** we're almost there to fill vertically... ready for vertical pack\n",
      "  Starting node =  (46, 124)   (FILL_HEIGHT, FILL_WIDTH) =  (False, True)\n",
      "  filling out one type\n",
      "  avail. types:  [(25, 26), (20, 26), (26, 26)]\n",
      "  ID_bottom =  3 (20, 26)\n",
      "  will use : (25, 26)\n"
     ]
    },
    {
     "data": {
      "image/png": "[encoded data removed]",
      "text/plain": [
       "<matplotlib.figure.Figure at 0x10e471ed0>"
      ]
     },
     "metadata": {},
     "output_type": "display_data"
    },
    {
     "name": "stdout",
     "output_type": "stream",
     "text": [
      "  find nodes (new method)\n",
      "  0.002 sec.\n"
     ]
    },
    {
     "data": {
      "image/png": "[encoded data removed]",
      "text/plain": [
       "<matplotlib.figure.Figure at 0x11b414050>"
      ]
     },
     "metadata": {},
     "output_type": "display_data"
    }
   ],
   "source": [
    "rp.do_fill_demo(Maskmap,lens)\n",
    "plt.figure(figsize=(12,8))\n",
    "plt.imshow(Maskmap, origin='lower')\n",
    "plt.show()\n",
    "Nodemap = Maskmap.copy()\n",
    "nodes = rp.find_all_nodes(Nodemap)\n",
    "for i in range(len(nodes)): Nodemap[nodes[i]] = 80\n",
    "plt.figure(figsize=(12,8))\n",
    "plt.imshow(Nodemap,origin='lower')\n",
    "plt.show()"
   ]
  },
  {
   "cell_type": "code",
   "execution_count": 15,
   "metadata": {},
   "outputs": [
    {
     "name": "stdout",
     "output_type": "stream",
     "text": [
      "# step : 14\n",
      "  find all nodes   find nodes (new method)\n",
      "  0.002 sec.\n",
      "  ** warning ** we're almost there to fill vertically... ready for vertical pack\n",
      "  Starting node =  (50, 52)   (FILL_HEIGHT, FILL_WIDTH) =  (True, True)\n",
      "  packing one type\n",
      "  avail. types:  []\n",
      "  ID_bottom =  2 (25, 26)\n",
      "  no types to pack... find types to pack horizontally\n",
      "  found no types to fill... exit\n"
     ]
    },
    {
     "data": {
      "image/png": "[encoded data removed]",
      "text/plain": [
       "<matplotlib.figure.Figure at 0x11b0eb410>"
      ]
     },
     "metadata": {},
     "output_type": "display_data"
    },
    {
     "name": "stdout",
     "output_type": "stream",
     "text": [
      "  find nodes (new method)\n",
      "  0.002 sec.\n"
     ]
    },
    {
     "data": {
      "image/png": "[encoded data removed]",
      "text/plain": [
       "<matplotlib.figure.Figure at 0x10f9ba210>"
      ]
     },
     "metadata": {},
     "output_type": "display_data"
    }
   ],
   "source": [
    "rp.do_fill_demo(Maskmap,lens)\n",
    "plt.figure(figsize=(12,8))\n",
    "plt.imshow(Maskmap, origin='lower')\n",
    "plt.show()\n",
    "Nodemap = Maskmap.copy()\n",
    "nodes = rp.find_all_nodes(Nodemap)\n",
    "for i in range(len(nodes)): Nodemap[nodes[i]] = 80\n",
    "plt.figure(figsize=(12,8))\n",
    "plt.imshow(Nodemap,origin='lower')\n",
    "plt.show()"
   ]
  },
  {
   "cell_type": "code",
   "execution_count": 10,
   "metadata": {},
   "outputs": [
    {
     "name": "stdout",
     "output_type": "stream",
     "text": [
      "# step : 12  (going to fill 13th type)\n",
      "  find nodes\n",
      "  starting node:  (0, 141) node up:  (26, 141) node right:  (0, 149)  ending node :  (199, 149)   size :  (200, 9)\n",
      "  packing history:  [(23, 28), (20, 26), (26, 26), (24, 24), (28, 28), (24, 18), (24, 18), (27, 27), (24, 18), (26, 26), (20, 26), (26, 25)]\n",
      "  tried to fill before\n",
      "  first try to fill\n",
      "  no available rectangles to fill, step back...\n",
      "  move to step No.  11\n",
      "  now avail. type(s) is(are):  [(28, 28), (25, 26), (20, 26), (23, 28), (26, 27), (27, 24), (27, 27), (20, 28), (24, 27), (26, 26), (26, 18), (24, 18), (24, 24), (23, 24), (26, 24)]\n",
      "  will remove type (26, 25)\n"
     ]
    },
    {
     "ename": "ValueError",
     "evalue": "list.remove(x): x not in list",
     "output_type": "error",
     "traceback": [
      "\u001b[0;31m---------------------------------------------------------------------------\u001b[0m",
      "\u001b[0;31mValueError\u001b[0m                                Traceback (most recent call last)",
      "\u001b[0;32m<ipython-input-10-5362687466f4>\u001b[0m in \u001b[0;36m<module>\u001b[0;34m()\u001b[0m\n\u001b[0;32m----> 1\u001b[0;31m \u001b[0mrp\u001b[0m\u001b[0;34m.\u001b[0m\u001b[0mdo_fill\u001b[0m\u001b[0;34m(\u001b[0m\u001b[0mMaskmap\u001b[0m\u001b[0;34m,\u001b[0m\u001b[0mlens\u001b[0m\u001b[0;34m)\u001b[0m\u001b[0;34m\u001b[0m\u001b[0m\n\u001b[0m\u001b[1;32m      2\u001b[0m \u001b[0mplt\u001b[0m\u001b[0;34m.\u001b[0m\u001b[0mfigure\u001b[0m\u001b[0;34m(\u001b[0m\u001b[0mfigsize\u001b[0m\u001b[0;34m=\u001b[0m\u001b[0;34m(\u001b[0m\u001b[0;36m8\u001b[0m\u001b[0;34m,\u001b[0m\u001b[0;36m12\u001b[0m\u001b[0;34m)\u001b[0m\u001b[0;34m)\u001b[0m\u001b[0;34m\u001b[0m\u001b[0m\n\u001b[1;32m      3\u001b[0m \u001b[0mplt\u001b[0m\u001b[0;34m.\u001b[0m\u001b[0mimshow\u001b[0m\u001b[0;34m(\u001b[0m\u001b[0mMaskmap\u001b[0m\u001b[0;34m,\u001b[0m \u001b[0morigin\u001b[0m\u001b[0;34m=\u001b[0m\u001b[0;34m'lower'\u001b[0m\u001b[0;34m)\u001b[0m\u001b[0;34m\u001b[0m\u001b[0m\n\u001b[1;32m      4\u001b[0m \u001b[0mplt\u001b[0m\u001b[0;34m.\u001b[0m\u001b[0mshow\u001b[0m\u001b[0;34m(\u001b[0m\u001b[0;34m)\u001b[0m\u001b[0;34m\u001b[0m\u001b[0m\n\u001b[1;32m      5\u001b[0m \u001b[0mNodemap\u001b[0m \u001b[0;34m=\u001b[0m \u001b[0mMaskmap\u001b[0m\u001b[0;34m.\u001b[0m\u001b[0mcopy\u001b[0m\u001b[0;34m(\u001b[0m\u001b[0;34m)\u001b[0m\u001b[0;34m\u001b[0m\u001b[0m\n",
      "\u001b[0;32m/Users/inchanji/Research/rect_packing/rectpack.py\u001b[0m in \u001b[0;36mdo_fill\u001b[0;34m(fieldmap, rectangles)\u001b[0m\n\u001b[1;32m    331\u001b[0m         \u001b[0;32mif\u001b[0m \u001b[0mlen\u001b[0m\u001b[0;34m(\u001b[0m\u001b[0mindex_types_avail\u001b[0m\u001b[0;34m)\u001b[0m \u001b[0;34m==\u001b[0m \u001b[0;36m0\u001b[0m\u001b[0;34m:\u001b[0m\u001b[0;34m\u001b[0m\u001b[0m\n\u001b[1;32m    332\u001b[0m                 \u001b[0;32mprint\u001b[0m \u001b[0;34m'  no available rectangles to fill, step back...'\u001b[0m\u001b[0;34m\u001b[0m\u001b[0m\n\u001b[0;32m--> 333\u001b[0;31m                 \u001b[0mstepback\u001b[0m\u001b[0;34m(\u001b[0m\u001b[0mfieldmap\u001b[0m\u001b[0;34m,\u001b[0m \u001b[0mrectangles\u001b[0m\u001b[0;34m,\u001b[0m \u001b[0mNstepback\u001b[0m \u001b[0;34m=\u001b[0m \u001b[0;36m1\u001b[0m\u001b[0;34m)\u001b[0m\u001b[0;34m\u001b[0m\u001b[0m\n\u001b[0m\u001b[1;32m    334\u001b[0m                 \u001b[0;32mreturn\u001b[0m\u001b[0;34m\u001b[0m\u001b[0m\n\u001b[1;32m    335\u001b[0m \u001b[0;34m\u001b[0m\u001b[0m\n",
      "\u001b[0;32m/Users/inchanji/Research/rect_packing/rectpack.py\u001b[0m in \u001b[0;36mstepback\u001b[0;34m(fieldmap, rectangles, Nstepback)\u001b[0m\n\u001b[1;32m    189\u001b[0m                 \u001b[0;32melse\u001b[0m\u001b[0;34m:\u001b[0m\u001b[0;34m\u001b[0m\u001b[0m\n\u001b[1;32m    190\u001b[0m                         \u001b[0;32mprint\u001b[0m \u001b[0;34m'  will remove type'\u001b[0m\u001b[0;34m,\u001b[0m \u001b[0mrectangles\u001b[0m\u001b[0;34m.\u001b[0m\u001b[0mtype\u001b[0m\u001b[0;34m[\u001b[0m\u001b[0mrectangles\u001b[0m\u001b[0;34m.\u001b[0m\u001b[0mtypehist\u001b[0m\u001b[0;34m[\u001b[0m\u001b[0mrectangles\u001b[0m\u001b[0;34m.\u001b[0m\u001b[0mNstep\u001b[0m\u001b[0;34m]\u001b[0m\u001b[0;34m]\u001b[0m\u001b[0;34m\u001b[0m\u001b[0m\n\u001b[0;32m--> 191\u001b[0;31m                         \u001b[0mrectangles\u001b[0m\u001b[0;34m.\u001b[0m\u001b[0mavailtype\u001b[0m\u001b[0;34m[\u001b[0m\u001b[0mrectangles\u001b[0m\u001b[0;34m.\u001b[0m\u001b[0mNstep\u001b[0m\u001b[0;34m]\u001b[0m\u001b[0;34m.\u001b[0m\u001b[0mremove\u001b[0m\u001b[0;34m(\u001b[0m\u001b[0mrectangles\u001b[0m\u001b[0;34m.\u001b[0m\u001b[0mtypehist\u001b[0m\u001b[0;34m[\u001b[0m\u001b[0mrectangles\u001b[0m\u001b[0;34m.\u001b[0m\u001b[0mNstep\u001b[0m\u001b[0;34m]\u001b[0m\u001b[0;34m)\u001b[0m\u001b[0;34m\u001b[0m\u001b[0m\n\u001b[0m\u001b[1;32m    192\u001b[0m                         \u001b[0;32mbreak\u001b[0m\u001b[0;34m\u001b[0m\u001b[0m\n\u001b[1;32m    193\u001b[0m \u001b[0;34m\u001b[0m\u001b[0m\n",
      "\u001b[0;31mValueError\u001b[0m: list.remove(x): x not in list"
     ]
    }
   ],
   "source": [
    "rp.do_fill(Maskmap,lens)\n",
    "plt.figure(figsize=(8,12))\n",
    "plt.imshow(Maskmap, origin='lower')\n",
    "plt.show()\n",
    "Nodemap = Maskmap.copy()\n",
    "nodes = rp.find_all_nodes(Nodemap)\n",
    "for i in range(len(nodes)): Nodemap[nodes[i]] = 80\n",
    "plt.figure(figsize=(8,12))   \n",
    "plt.imshow(Nodemap,origin='lower')\n",
    "plt.show()"
   ]
  },
  {
   "cell_type": "code",
   "execution_count": 9,
   "metadata": {},
   "outputs": [
    {
     "name": "stdout",
     "output_type": "stream",
     "text": [
      "# step : 6  (going to fill 7th type)\n",
      "  find nodes\n",
      "  starting node:  (0, 144) node up:  (23, 144) node right:  (0, 149)  ending node :  (199, 149)   size :  (200, 6)\n",
      "  packing history:  [(28, 28), (26, 18), (28, 28), (24, 18), (27, 24), (26, 18)]\n",
      "  tried to fill before\n",
      "  no available rectangles to fill, step back...\n",
      "  move to step No.  5\n",
      "  now avail. type(s) is(are):  [(28, 28), (26, 25), (25, 26), (20, 26), (23, 28), (26, 27), (27, 24), (27, 27), (20, 28), (24, 27), (26, 26), (24, 18), (24, 24), (23, 24), (26, 24)]\n",
      "  will remove type (26, 18)\n"
     ]
    },
    {
     "ename": "ValueError",
     "evalue": "list.remove(x): x not in list",
     "output_type": "error",
     "traceback": [
      "\u001b[0;31m---------------------------------------------------------------------------\u001b[0m",
      "\u001b[0;31mValueError\u001b[0m                                Traceback (most recent call last)",
      "\u001b[0;32m<ipython-input-9-e1adff00a7c6>\u001b[0m in \u001b[0;36m<module>\u001b[0;34m()\u001b[0m\n\u001b[0;32m----> 1\u001b[0;31m \u001b[0mrp\u001b[0m\u001b[0;34m.\u001b[0m\u001b[0mdo_fill\u001b[0m\u001b[0;34m(\u001b[0m\u001b[0mMaskmap\u001b[0m\u001b[0;34m,\u001b[0m\u001b[0mlens\u001b[0m\u001b[0;34m)\u001b[0m\u001b[0;34m\u001b[0m\u001b[0m\n\u001b[0m\u001b[1;32m      2\u001b[0m \u001b[0mplt\u001b[0m\u001b[0;34m.\u001b[0m\u001b[0mfigure\u001b[0m\u001b[0;34m(\u001b[0m\u001b[0mfigsize\u001b[0m\u001b[0;34m=\u001b[0m\u001b[0;34m(\u001b[0m\u001b[0;36m8\u001b[0m\u001b[0;34m,\u001b[0m\u001b[0;36m12\u001b[0m\u001b[0;34m)\u001b[0m\u001b[0;34m)\u001b[0m\u001b[0;34m\u001b[0m\u001b[0m\n\u001b[1;32m      3\u001b[0m \u001b[0mplt\u001b[0m\u001b[0;34m.\u001b[0m\u001b[0mimshow\u001b[0m\u001b[0;34m(\u001b[0m\u001b[0mMaskmap\u001b[0m\u001b[0;34m,\u001b[0m \u001b[0morigin\u001b[0m\u001b[0;34m=\u001b[0m\u001b[0;34m'lower'\u001b[0m\u001b[0;34m)\u001b[0m\u001b[0;34m\u001b[0m\u001b[0m\n\u001b[1;32m      4\u001b[0m \u001b[0mplt\u001b[0m\u001b[0;34m.\u001b[0m\u001b[0mshow\u001b[0m\u001b[0;34m(\u001b[0m\u001b[0;34m)\u001b[0m\u001b[0;34m\u001b[0m\u001b[0m\n\u001b[1;32m      5\u001b[0m \u001b[0mNodemap\u001b[0m \u001b[0;34m=\u001b[0m \u001b[0mMaskmap\u001b[0m\u001b[0;34m.\u001b[0m\u001b[0mcopy\u001b[0m\u001b[0;34m(\u001b[0m\u001b[0;34m)\u001b[0m\u001b[0;34m\u001b[0m\u001b[0m\n",
      "\u001b[0;32m/Users/inchanji/Research/rect_packing/rectpack.pyc\u001b[0m in \u001b[0;36mdo_fill\u001b[0;34m(fieldmap, rectangles)\u001b[0m\n\u001b[1;32m    300\u001b[0m         \u001b[0;32mif\u001b[0m \u001b[0mlen\u001b[0m\u001b[0;34m(\u001b[0m\u001b[0mindex_types_avail\u001b[0m\u001b[0;34m)\u001b[0m \u001b[0;34m==\u001b[0m \u001b[0;36m0\u001b[0m\u001b[0;34m:\u001b[0m\u001b[0;34m\u001b[0m\u001b[0m\n\u001b[1;32m    301\u001b[0m                 \u001b[0;32mprint\u001b[0m \u001b[0;34m'  no available rectangles to fill, step back...'\u001b[0m\u001b[0;34m\u001b[0m\u001b[0m\n\u001b[0;32m--> 302\u001b[0;31m                 \u001b[0mstepback\u001b[0m\u001b[0;34m(\u001b[0m\u001b[0mfieldmap\u001b[0m\u001b[0;34m,\u001b[0m \u001b[0mrectangles\u001b[0m\u001b[0;34m,\u001b[0m \u001b[0mNstepback\u001b[0m \u001b[0;34m=\u001b[0m \u001b[0;36m1\u001b[0m\u001b[0;34m)\u001b[0m\u001b[0;34m\u001b[0m\u001b[0m\n\u001b[0m\u001b[1;32m    303\u001b[0m                 \u001b[0;32mreturn\u001b[0m\u001b[0;34m\u001b[0m\u001b[0m\n\u001b[1;32m    304\u001b[0m \u001b[0;34m\u001b[0m\u001b[0m\n",
      "\u001b[0;32m/Users/inchanji/Research/rect_packing/rectpack.pyc\u001b[0m in \u001b[0;36mstepback\u001b[0;34m(fieldmap, rectangles, Nstepback)\u001b[0m\n\u001b[1;32m    189\u001b[0m                 \u001b[0;32melse\u001b[0m\u001b[0;34m:\u001b[0m\u001b[0;34m\u001b[0m\u001b[0m\n\u001b[1;32m    190\u001b[0m                         \u001b[0;32mprint\u001b[0m \u001b[0;34m'  will remove type'\u001b[0m\u001b[0;34m,\u001b[0m \u001b[0mrectangles\u001b[0m\u001b[0;34m.\u001b[0m\u001b[0mtype\u001b[0m\u001b[0;34m[\u001b[0m\u001b[0mrectangles\u001b[0m\u001b[0;34m.\u001b[0m\u001b[0mtypehist\u001b[0m\u001b[0;34m[\u001b[0m\u001b[0mrectangles\u001b[0m\u001b[0;34m.\u001b[0m\u001b[0mNstep\u001b[0m\u001b[0;34m]\u001b[0m\u001b[0;34m]\u001b[0m\u001b[0;34m\u001b[0m\u001b[0m\n\u001b[0;32m--> 191\u001b[0;31m                         \u001b[0mrectangles\u001b[0m\u001b[0;34m.\u001b[0m\u001b[0mavailtype\u001b[0m\u001b[0;34m[\u001b[0m\u001b[0mrectangles\u001b[0m\u001b[0;34m.\u001b[0m\u001b[0mNstep\u001b[0m\u001b[0;34m]\u001b[0m\u001b[0;34m.\u001b[0m\u001b[0mremove\u001b[0m\u001b[0;34m(\u001b[0m\u001b[0mrectangles\u001b[0m\u001b[0;34m.\u001b[0m\u001b[0mtypehist\u001b[0m\u001b[0;34m[\u001b[0m\u001b[0mrectangles\u001b[0m\u001b[0;34m.\u001b[0m\u001b[0mNstep\u001b[0m\u001b[0;34m]\u001b[0m\u001b[0;34m)\u001b[0m\u001b[0;34m\u001b[0m\u001b[0m\n\u001b[0m\u001b[1;32m    192\u001b[0m                         \u001b[0;32mbreak\u001b[0m\u001b[0;34m\u001b[0m\u001b[0m\n\u001b[1;32m    193\u001b[0m \u001b[0;34m\u001b[0m\u001b[0m\n",
      "\u001b[0;31mValueError\u001b[0m: list.remove(x): x not in list"
     ]
    }
   ],
   "source": [
    "rp.do_fill(Maskmap,lens)\n",
    "plt.figure(figsize=(8,12))\n",
    "plt.imshow(Maskmap, origin='lower')\n",
    "plt.show()\n",
    "Nodemap = Maskmap.copy()\n",
    "nodes = rp.find_all_nodes(Nodemap)\n",
    "for i in range(len(nodes)): Nodemap[nodes[i]] = 80\n",
    "plt.figure(figsize=(8,12))       \n",
    "plt.imshow(Nodemap,origin='lower')\n",
    "plt.show()"
   ]
  },
  {
   "cell_type": "code",
   "execution_count": 25,
   "metadata": {},
   "outputs": [
    {
     "name": "stdout",
     "output_type": "stream",
     "text": [
      "# step : 6  (going to fill 7th type)\n",
      "  find nodes\n",
      "  starting node:  (0, 148) node up:  (24, 148) node right:  (0, 149)  ending node :  (199, 149)   size :  (200, 2)\n",
      "  packing history:  [(26, 27), (25, 26), (20, 26), (26, 26), (26, 25), (24, 18)]\n",
      "  tried to fill before\n",
      "  first try to fill\n",
      "  no available rectangles to fill, step back...\n",
      "  move to step No.  5\n",
      "  now avail. type(s) is(are):  [(26, 18)]\n",
      "  no avail. type... move one more step back\n",
      "  move to step No.  4\n",
      "  now avail. type(s) is(are):  [(28, 28), (26, 25), (25, 26), (20, 26), (23, 28), (26, 27), (27, 24), (27, 27), (20, 28), (24, 27), (26, 26), (26, 18), (24, 18), (24, 24), (23, 24), (26, 24)]\n",
      "  will remove type (26, 25)\n"
     ]
    },
    {
     "data": {
      "image/png": "[encoded data removed]",
      "text/plain": [
       "<matplotlib.figure.Figure at 0x1a17fd8d90>"
      ]
     },
     "metadata": {},
     "output_type": "display_data"
    },
    {
     "name": "stdout",
     "output_type": "stream",
     "text": [
      "  find nodes\n"
     ]
    },
    {
     "data": {
      "image/png": "[encoded data removed]",
      "text/plain": [
       "<matplotlib.figure.Figure at 0x1a1800cf50>"
      ]
     },
     "metadata": {},
     "output_type": "display_data"
    }
   ],
   "source": [
    "rp.do_fill(Maskmap,lens)\n",
    "plt.figure(figsize=(8,12))\n",
    "plt.imshow(Maskmap, origin='lower')\n",
    "plt.show()\n",
    "Nodemap = Maskmap.copy()\n",
    "nodes = rp.find_all_nodes(Nodemap)\n",
    "for i in range(len(nodes)): Nodemap[nodes[i]] = 80\n",
    "plt.figure(figsize=(8,12))     \n",
    "plt.imshow(Nodemap,origin='lower')\n",
    "plt.show()"
   ]
  },
  {
   "cell_type": "code",
   "execution_count": 26,
   "metadata": {},
   "outputs": [
    {
     "name": "stdout",
     "output_type": "stream",
     "text": [
      "# step : 4  (going to fill 5th type)\n",
      "  find nodes\n",
      "  starting node:  (0, 105) node up:  (26, 105) node right:  (0, 149)  ending node :  (199, 149)   size :  (200, 45)\n",
      "  packing history:  [(26, 27), (25, 26), (20, 26), (26, 26)]\n",
      "  tried to fill before\n",
      "  avail. types:  [(28, 28), (25, 26), (20, 26), (23, 28), (26, 27), (27, 24), (27, 27), (20, 28), (24, 27), (26, 26), (26, 18), (24, 18), (24, 24), (23, 24)]\n",
      "  will use : (26, 25)\n"
     ]
    },
    {
     "data": {
      "image/png": "[encoded data removed]",
      "text/plain": [
       "<matplotlib.figure.Figure at 0x1a19e46310>"
      ]
     },
     "metadata": {},
     "output_type": "display_data"
    },
    {
     "name": "stdout",
     "output_type": "stream",
     "text": [
      "  find nodes\n"
     ]
    },
    {
     "data": {
      "image/png": "[encoded data removed]",
      "text/plain": [
       "<matplotlib.figure.Figure at 0x1a18979fd0>"
      ]
     },
     "metadata": {},
     "output_type": "display_data"
    }
   ],
   "source": [
    "rp.do_fill(Maskmap,lens)\n",
    "plt.figure(figsize=(8,12)) \n",
    "plt.imshow(Maskmap, origin='lower')\n",
    "plt.show()\n",
    "Nodemap = Maskmap.copy()\n",
    "nodes = rp.find_all_nodes(Nodemap)\n",
    "for i in range(len(nodes)): Nodemap[nodes[i]] = 80\n",
    "plt.figure(figsize=(8,12))    \n",
    "plt.imshow(Nodemap,origin='lower')\n",
    "plt.show()"
   ]
  },
  {
   "cell_type": "code",
   "execution_count": 27,
   "metadata": {},
   "outputs": [
    {
     "name": "stdout",
     "output_type": "stream",
     "text": [
      "# step : 5  (going to fill 6th type)\n",
      "  find nodes\n",
      "  starting node:  (0, 129) node up:  (23, 129) node right:  (0, 149)  ending node :  (199, 149)   size :  (200, 21)\n",
      "  packing history:  [(26, 27), (25, 26), (20, 26), (26, 26), (26, 25)]\n",
      "  tried to fill before\n",
      "  first try to fill\n",
      "  avail. types:  [(26, 18), (24, 18)]\n",
      "  will use : (24, 18)\n"
     ]
    },
    {
     "data": {
      "image/png": "[encoded data removed]",
      "text/plain": [
       "<matplotlib.figure.Figure at 0x1a17e82510>"
      ]
     },
     "metadata": {},
     "output_type": "display_data"
    },
    {
     "name": "stdout",
     "output_type": "stream",
     "text": [
      "  find nodes\n"
     ]
    },
    {
     "data": {
      "image/png": "[encoded data removed]",
      "text/plain": [
       "<matplotlib.figure.Figure at 0x1a18f2b450>"
      ]
     },
     "metadata": {},
     "output_type": "display_data"
    }
   ],
   "source": [
    "rp.do_fill(Maskmap,lens)\n",
    "plt.figure(figsize=(8,12))\n",
    "plt.imshow(Maskmap, origin='lower')\n",
    "plt.show()\n",
    "Nodemap = Maskmap.copy()\n",
    "nodes = rp.find_all_nodes(Nodemap)\n",
    "for i in range(len(nodes)): Nodemap[nodes[i]] = 80\n",
    "plt.figure(figsize=(8,12))       \n",
    "plt.imshow(Nodemap,origin='lower')\n",
    "plt.show()"
   ]
  },
  {
   "cell_type": "code",
   "execution_count": 28,
   "metadata": {},
   "outputs": [
    {
     "name": "stdout",
     "output_type": "stream",
     "text": [
      "# step : 6  (going to fill 7th type)\n",
      "  find nodes\n",
      "  starting node:  (0, 147) node up:  (26, 147) node right:  (0, 149)  ending node :  (199, 149)   size :  (200, 3)\n",
      "  packing history:  [(26, 27), (25, 26), (20, 26), (26, 26), (26, 25), (24, 18)]\n",
      "  tried to fill before\n",
      "  first try to fill\n",
      "  no available rectangles to fill, step back...\n",
      "  move to step No.  5\n",
      "  now avail. type(s) is(are):  [(26, 18)]\n",
      "  no avail. type... move one more step back\n",
      "  move to step No.  4\n",
      "  now avail. type(s) is(are):  [(28, 28), (25, 26), (20, 26), (23, 28), (26, 27), (27, 24), (27, 27), (20, 28), (24, 27), (26, 26), (26, 18), (24, 18), (24, 24), (23, 24), (26, 24)]\n",
      "  will remove type (26, 25)\n"
     ]
    },
    {
     "ename": "ValueError",
     "evalue": "list.remove(x): x not in list",
     "output_type": "error",
     "traceback": [
      "\u001b[0;31m---------------------------------------------------------------------------\u001b[0m",
      "\u001b[0;31mValueError\u001b[0m                                Traceback (most recent call last)",
      "\u001b[0;32m<ipython-input-28-f03cae0ff8fb>\u001b[0m in \u001b[0;36m<module>\u001b[0;34m()\u001b[0m\n\u001b[0;32m----> 1\u001b[0;31m \u001b[0mrp\u001b[0m\u001b[0;34m.\u001b[0m\u001b[0mdo_fill\u001b[0m\u001b[0;34m(\u001b[0m\u001b[0mMaskmap\u001b[0m\u001b[0;34m,\u001b[0m\u001b[0mlens\u001b[0m\u001b[0;34m)\u001b[0m\u001b[0;34m\u001b[0m\u001b[0m\n\u001b[0m\u001b[1;32m      2\u001b[0m \u001b[0mplt\u001b[0m\u001b[0;34m.\u001b[0m\u001b[0mfigure\u001b[0m\u001b[0;34m(\u001b[0m\u001b[0mfigsize\u001b[0m\u001b[0;34m=\u001b[0m\u001b[0;34m(\u001b[0m\u001b[0;36m8\u001b[0m\u001b[0;34m,\u001b[0m\u001b[0;36m12\u001b[0m\u001b[0;34m)\u001b[0m\u001b[0;34m)\u001b[0m\u001b[0;34m\u001b[0m\u001b[0m\n\u001b[1;32m      3\u001b[0m \u001b[0mplt\u001b[0m\u001b[0;34m.\u001b[0m\u001b[0mimshow\u001b[0m\u001b[0;34m(\u001b[0m\u001b[0mMaskmap\u001b[0m\u001b[0;34m,\u001b[0m \u001b[0morigin\u001b[0m\u001b[0;34m=\u001b[0m\u001b[0;34m'lower'\u001b[0m\u001b[0;34m)\u001b[0m\u001b[0;34m\u001b[0m\u001b[0m\n\u001b[1;32m      4\u001b[0m \u001b[0mplt\u001b[0m\u001b[0;34m.\u001b[0m\u001b[0mshow\u001b[0m\u001b[0;34m(\u001b[0m\u001b[0;34m)\u001b[0m\u001b[0;34m\u001b[0m\u001b[0m\n\u001b[1;32m      5\u001b[0m \u001b[0mNodemap\u001b[0m \u001b[0;34m=\u001b[0m \u001b[0mMaskmap\u001b[0m\u001b[0;34m.\u001b[0m\u001b[0mcopy\u001b[0m\u001b[0;34m(\u001b[0m\u001b[0;34m)\u001b[0m\u001b[0;34m\u001b[0m\u001b[0m\n",
      "\u001b[0;32m/Users/inchanji/Research/rect_packing/rectpack.py\u001b[0m in \u001b[0;36mdo_fill\u001b[0;34m(fieldmap, rectangles)\u001b[0m\n\u001b[1;32m    300\u001b[0m         \u001b[0;32mif\u001b[0m \u001b[0mlen\u001b[0m\u001b[0;34m(\u001b[0m\u001b[0mindex_types_avail\u001b[0m\u001b[0;34m)\u001b[0m \u001b[0;34m==\u001b[0m \u001b[0;36m0\u001b[0m\u001b[0;34m:\u001b[0m\u001b[0;34m\u001b[0m\u001b[0m\n\u001b[1;32m    301\u001b[0m                 \u001b[0;32mprint\u001b[0m \u001b[0;34m'  no available rectangles to fill, step back...'\u001b[0m\u001b[0;34m\u001b[0m\u001b[0m\n\u001b[0;32m--> 302\u001b[0;31m                 \u001b[0mstepback\u001b[0m\u001b[0;34m(\u001b[0m\u001b[0mfieldmap\u001b[0m\u001b[0;34m,\u001b[0m \u001b[0mrectangles\u001b[0m\u001b[0;34m,\u001b[0m \u001b[0mNstepback\u001b[0m \u001b[0;34m=\u001b[0m \u001b[0;36m1\u001b[0m\u001b[0;34m)\u001b[0m\u001b[0;34m\u001b[0m\u001b[0m\n\u001b[0m\u001b[1;32m    303\u001b[0m                 \u001b[0;32mreturn\u001b[0m\u001b[0;34m\u001b[0m\u001b[0m\n\u001b[1;32m    304\u001b[0m \u001b[0;34m\u001b[0m\u001b[0m\n",
      "\u001b[0;32m/Users/inchanji/Research/rect_packing/rectpack.py\u001b[0m in \u001b[0;36mstepback\u001b[0;34m(fieldmap, rectangles, Nstepback)\u001b[0m\n\u001b[1;32m    189\u001b[0m                 \u001b[0;32melse\u001b[0m\u001b[0;34m:\u001b[0m\u001b[0;34m\u001b[0m\u001b[0m\n\u001b[1;32m    190\u001b[0m                         \u001b[0;32mprint\u001b[0m \u001b[0;34m'  will remove type'\u001b[0m\u001b[0;34m,\u001b[0m \u001b[0mrectangles\u001b[0m\u001b[0;34m.\u001b[0m\u001b[0mtype\u001b[0m\u001b[0;34m[\u001b[0m\u001b[0mrectangles\u001b[0m\u001b[0;34m.\u001b[0m\u001b[0mtypehist\u001b[0m\u001b[0;34m[\u001b[0m\u001b[0mrectangles\u001b[0m\u001b[0;34m.\u001b[0m\u001b[0mNstep\u001b[0m\u001b[0;34m]\u001b[0m\u001b[0;34m]\u001b[0m\u001b[0;34m\u001b[0m\u001b[0m\n\u001b[0;32m--> 191\u001b[0;31m                         \u001b[0mrectangles\u001b[0m\u001b[0;34m.\u001b[0m\u001b[0mavailtype\u001b[0m\u001b[0;34m[\u001b[0m\u001b[0mrectangles\u001b[0m\u001b[0;34m.\u001b[0m\u001b[0mNstep\u001b[0m\u001b[0;34m]\u001b[0m\u001b[0;34m.\u001b[0m\u001b[0mremove\u001b[0m\u001b[0;34m(\u001b[0m\u001b[0mrectangles\u001b[0m\u001b[0;34m.\u001b[0m\u001b[0mtypehist\u001b[0m\u001b[0;34m[\u001b[0m\u001b[0mrectangles\u001b[0m\u001b[0;34m.\u001b[0m\u001b[0mNstep\u001b[0m\u001b[0;34m]\u001b[0m\u001b[0;34m)\u001b[0m\u001b[0;34m\u001b[0m\u001b[0m\n\u001b[0m\u001b[1;32m    192\u001b[0m                         \u001b[0;32mbreak\u001b[0m\u001b[0;34m\u001b[0m\u001b[0m\n\u001b[1;32m    193\u001b[0m \u001b[0;34m\u001b[0m\u001b[0m\n",
      "\u001b[0;31mValueError\u001b[0m: list.remove(x): x not in list"
     ]
    }
   ],
   "source": [
    "rp.do_fill(Maskmap,lens)\n",
    "plt.figure(figsize=(8,12))\n",
    "plt.imshow(Maskmap, origin='lower')\n",
    "plt.show()\n",
    "Nodemap = Maskmap.copy()\n",
    "nodes = rp.find_all_nodes(Nodemap)\n",
    "for i in range(len(nodes)): Nodemap[nodes[i]] = 80\n",
    "plt.figure(figsize=(8,12))     \n",
    "plt.imshow(Nodemap,origin='lower')\n",
    "plt.show()"
   ]
  },
  {
   "cell_type": "code",
   "execution_count": 132,
   "metadata": {},
   "outputs": [
    {
     "name": "stdout",
     "output_type": "stream",
     "text": [
      "# step : 7  (going to fill 8th type)\n",
      "  find nodes\n",
      "  starting node:  (23, 24) node up:  (27, 24) node right:  (23, 47)  ending node :  (199, 47)   size :  (177, 24)\n",
      "  packing history:  [(27, 24), (23, 24), (26, 27), (20, 28), (25, 26), (26, 18), (28, 28)]\n",
      "  tried to fill before\n",
      "  no available rectangles to fill, step back...\n",
      "  move to step No.  6\n",
      "  now avail. type(s) is(are):  [(28, 28)]\n",
      "  no avail. type... move one more step back\n",
      "  move to step No.  5\n",
      "  now avail. type(s) is(are):  [(24, 18)]\n",
      "  no avail. type... move one more step back\n",
      "  move to step No.  4\n",
      "  now avail. type(s) is(are):  [(28, 28), (26, 25), (25, 26), (20, 26), (23, 28), (26, 27), (27, 24), (27, 27), (20, 28), (24, 27), (26, 26), (26, 18), (24, 18), (24, 24), (23, 24), (26, 24)]\n",
      "  will remove type (25, 26)\n"
     ]
    },
    {
     "data": {
      "image/png": "[encoded data removed]",
      "text/plain": [
       "<matplotlib.figure.Figure at 0x1a130711d0>"
      ]
     },
     "metadata": {},
     "output_type": "display_data"
    },
    {
     "name": "stdout",
     "output_type": "stream",
     "text": [
      "  find nodes\n"
     ]
    },
    {
     "data": {
      "image/png": "[encoded data removed]",
      "text/plain": [
       "<matplotlib.figure.Figure at 0x103be3310>"
      ]
     },
     "metadata": {},
     "output_type": "display_data"
    }
   ],
   "source": [
    "rp.do_fill(Maskmap,lens)\n",
    "plt.figure(figsize=(8,12))\n",
    "plt.imshow(Maskmap, origin='lower')\n",
    "plt.show()\n",
    "Nodemap = Maskmap.copy()\n",
    "nodes = rp.find_all_nodes(Nodemap)\n",
    "for i in range(len(nodes)): Nodemap[nodes[i]] = 80\n",
    "plt.figure(figsize=(8,12))      \n",
    "plt.imshow(Nodemap,origin='lower')\n",
    "plt.show()"
   ]
  },
  {
   "cell_type": "code",
   "execution_count": 14,
   "metadata": {},
   "outputs": [
    {
     "name": "stdout",
     "output_type": "stream",
     "text": [
      "# step : 4  (going to fill 5th type)\n",
      "  find nodes\n",
      "  starting node:  (0, 102) node up:  (28, 102) node right:  (0, 149)  ending node :  (199, 149)   size :  (200, 48)\n",
      "  packing history:  [(27, 24), (23, 24), (20, 26), (28, 28)]\n",
      "  tried to fill before\n",
      "  avail. types:  [(28, 28), (26, 25), (25, 26), (20, 26), (23, 28), (26, 27), (27, 24), (27, 27), (20, 28), (24, 27), (26, 18), (24, 18), (24, 24), (23, 24)]\n",
      "  will use : (26, 26)\n"
     ]
    },
    {
     "data": {
      "image/png": "[encoded data removed]",
      "text/plain": [
       "<matplotlib.figure.Figure at 0x1a1c39dd10>"
      ]
     },
     "metadata": {},
     "output_type": "display_data"
    },
    {
     "name": "stdout",
     "output_type": "stream",
     "text": [
      "  find nodes\n"
     ]
    },
    {
     "data": {
      "image/png": "[encoded data removed]",
      "text/plain": [
       "<matplotlib.figure.Figure at 0x1a1c22c090>"
      ]
     },
     "metadata": {},
     "output_type": "display_data"
    }
   ],
   "source": [
    "rp.do_fill(Maskmap,lens)\n",
    "plt.imshow(Maskmap, origin='lower')\n",
    "plt.show()\n",
    "Nodemap = Maskmap.copy()\n",
    "nodes = rp.find_all_nodes(Nodemap)\n",
    "for i in range(len(nodes)): Nodemap[nodes[i]] = 80\n",
    "plt.imshow(Nodemap,origin='lower')\n",
    "plt.show()"
   ]
  },
  {
   "cell_type": "code",
   "execution_count": 95,
   "metadata": {},
   "outputs": [
    {
     "name": "stdout",
     "output_type": "stream",
     "text": [
      "# step : 9  (going to fill 10th type)\n",
      "  find nodes\n",
      "  starting node:  (26, 28) node up:  (54, 28) node right:  (26, 49)  ending node :  (99, 49)   size :  (74, 22)\n",
      "  packing history:  [(26, 26), (26, 24), (20, 28), (20, 28), (28, 28), (26, 26), (26, 18), (28, 28), (28, 28)]\n",
      "  tried to fill before\n",
      "  no available rectangles to fill, step back...\n",
      "  move to step No.  8\n",
      "  now avail. type(s) is(are):  [(28, 28), (26, 25)]\n",
      "  will remove type (28, 28)\n"
     ]
    },
    {
     "data": {
      "image/png": "[encoded data removed]",
      "text/plain": [
       "<matplotlib.figure.Figure at 0x1a12707690>"
      ]
     },
     "metadata": {},
     "output_type": "display_data"
    },
    {
     "name": "stdout",
     "output_type": "stream",
     "text": [
      "  find nodes\n"
     ]
    },
    {
     "data": {
      "image/png": "[encoded data removed]",
      "text/plain": [
       "<matplotlib.figure.Figure at 0x1a127a7f50>"
      ]
     },
     "metadata": {},
     "output_type": "display_data"
    }
   ],
   "source": [
    "rp.do_fill(Maskmap,lens)\n",
    "plt.imshow(Maskmap, origin='lower')\n",
    "plt.show()\n",
    "Nodemap = Maskmap.copy()\n",
    "nodes = rp.find_all_nodes(Nodemap)\n",
    "for i in range(len(nodes)): Nodemap[nodes[i]] = 80\n",
    "plt.imshow(Nodemap,origin='lower')\n",
    "plt.show()"
   ]
  },
  {
   "cell_type": "code",
   "execution_count": 96,
   "metadata": {},
   "outputs": [
    {
     "name": "stdout",
     "output_type": "stream",
     "text": [
      "# step : 8  (going to fill 9th type)\n",
      "  find nodes\n",
      "  starting node:  (20, 78) node up:  (48, 78) node right:  (20, 106)  ending node :  (99, 106)   size :  (80, 29)\n",
      "  packing history:  [(26, 26), (26, 24), (20, 28), (20, 28), (28, 28), (26, 26), (26, 18), (28, 28)]\n",
      "  tried to fill before\n",
      "  avail. types:  [(28, 28)]\n",
      "  will use : (28, 28)\n"
     ]
    },
    {
     "data": {
      "image/png": "[encoded data removed]",
      "text/plain": [
       "<matplotlib.figure.Figure at 0x1a12bc98d0>"
      ]
     },
     "metadata": {},
     "output_type": "display_data"
    },
    {
     "name": "stdout",
     "output_type": "stream",
     "text": [
      "  find nodes\n"
     ]
    },
    {
     "data": {
      "image/png": "[encoded data removed]",
      "text/plain": [
       "<matplotlib.figure.Figure at 0x1a09397bd0>"
      ]
     },
     "metadata": {},
     "output_type": "display_data"
    }
   ],
   "source": [
    "rp.do_fill(Maskmap,lens)\n",
    "plt.imshow(Maskmap, origin='lower')\n",
    "plt.show()\n",
    "Nodemap = Maskmap.copy()\n",
    "nodes = rp.find_all_nodes(Nodemap)\n",
    "for i in range(len(nodes)): Nodemap[nodes[i]] = 80\n",
    "plt.imshow(Nodemap,origin='lower')\n",
    "plt.show()"
   ]
  },
  {
   "cell_type": "code",
   "execution_count": 97,
   "metadata": {},
   "outputs": [
    {
     "name": "stdout",
     "output_type": "stream",
     "text": [
      "# step : 9  (going to fill 10th type)\n",
      "  find nodes\n"
     ]
    },
    {
     "ename": "UnboundLocalError",
     "evalue": "local variable 'node_right' referenced before assignment",
     "output_type": "error",
     "traceback": [
      "\u001b[0;31m---------------------------------------------------------------------------\u001b[0m",
      "\u001b[0;31mUnboundLocalError\u001b[0m                         Traceback (most recent call last)",
      "\u001b[0;32m<ipython-input-97-103eac39413c>\u001b[0m in \u001b[0;36m<module>\u001b[0;34m()\u001b[0m\n\u001b[0;32m----> 1\u001b[0;31m \u001b[0mrp\u001b[0m\u001b[0;34m.\u001b[0m\u001b[0mdo_fill\u001b[0m\u001b[0;34m(\u001b[0m\u001b[0mMaskmap\u001b[0m\u001b[0;34m,\u001b[0m\u001b[0mlens\u001b[0m\u001b[0;34m)\u001b[0m\u001b[0;34m\u001b[0m\u001b[0m\n\u001b[0m\u001b[1;32m      2\u001b[0m \u001b[0mplt\u001b[0m\u001b[0;34m.\u001b[0m\u001b[0mimshow\u001b[0m\u001b[0;34m(\u001b[0m\u001b[0mMaskmap\u001b[0m\u001b[0;34m,\u001b[0m \u001b[0morigin\u001b[0m\u001b[0;34m=\u001b[0m\u001b[0;34m'lower'\u001b[0m\u001b[0;34m)\u001b[0m\u001b[0;34m\u001b[0m\u001b[0m\n\u001b[1;32m      3\u001b[0m \u001b[0mplt\u001b[0m\u001b[0;34m.\u001b[0m\u001b[0mshow\u001b[0m\u001b[0;34m(\u001b[0m\u001b[0;34m)\u001b[0m\u001b[0;34m\u001b[0m\u001b[0m\n\u001b[1;32m      4\u001b[0m \u001b[0mNodemap\u001b[0m \u001b[0;34m=\u001b[0m \u001b[0mMaskmap\u001b[0m\u001b[0;34m.\u001b[0m\u001b[0mcopy\u001b[0m\u001b[0;34m(\u001b[0m\u001b[0;34m)\u001b[0m\u001b[0;34m\u001b[0m\u001b[0m\n\u001b[1;32m      5\u001b[0m \u001b[0mnodes\u001b[0m \u001b[0;34m=\u001b[0m \u001b[0mrp\u001b[0m\u001b[0;34m.\u001b[0m\u001b[0mfind_all_nodes\u001b[0m\u001b[0;34m(\u001b[0m\u001b[0mNodemap\u001b[0m\u001b[0;34m)\u001b[0m\u001b[0;34m\u001b[0m\u001b[0m\n",
      "\u001b[0;32m/Users/inchanji/Research/rect_packing/rectpack.py\u001b[0m in \u001b[0;36mdo_fill\u001b[0;34m(fieldmap, rectangles)\u001b[0m\n\u001b[1;32m    272\u001b[0m         \u001b[0;32mprint\u001b[0m \u001b[0;34m'# step :'\u001b[0m\u001b[0;34m,\u001b[0m \u001b[0mrectangles\u001b[0m\u001b[0;34m.\u001b[0m\u001b[0mNstep\u001b[0m\u001b[0;34m,\u001b[0m \u001b[0;34m' (going to fill %dth type)'\u001b[0m \u001b[0;34m%\u001b[0m\u001b[0;34m(\u001b[0m\u001b[0mrectangles\u001b[0m\u001b[0;34m.\u001b[0m\u001b[0mNstep\u001b[0m\u001b[0;34m+\u001b[0m\u001b[0;36m1\u001b[0m\u001b[0;34m)\u001b[0m\u001b[0;34m\u001b[0m\u001b[0m\n\u001b[1;32m    273\u001b[0m         \u001b[0mallnodes\u001b[0m                \u001b[0;34m=\u001b[0m \u001b[0mfind_all_nodes\u001b[0m\u001b[0;34m(\u001b[0m\u001b[0mfieldmap\u001b[0m\u001b[0;34m)\u001b[0m \u001b[0;31m# return all nodes\u001b[0m\u001b[0;34m\u001b[0m\u001b[0m\n\u001b[0;32m--> 274\u001b[0;31m         \u001b[0mnodes_to_fill\u001b[0m\u001b[0;34m,\u001b[0m \u001b[0marea_to_fill\u001b[0m \u001b[0;34m=\u001b[0m \u001b[0mfind_nodes_to_fill\u001b[0m\u001b[0;34m(\u001b[0m\u001b[0mallnodes\u001b[0m\u001b[0;34m)\u001b[0m \u001b[0;31m# (starting and ending nodes), (Nrow, Ncol) to fill\u001b[0m\u001b[0;34m\u001b[0m\u001b[0m\n\u001b[0m\u001b[1;32m    275\u001b[0m \u001b[0;34m\u001b[0m\u001b[0m\n\u001b[1;32m    276\u001b[0m         \u001b[0;32mif\u001b[0m \u001b[0mrectangles\u001b[0m\u001b[0;34m.\u001b[0m\u001b[0mNstep\u001b[0m \u001b[0;34m>\u001b[0m \u001b[0;36m0\u001b[0m\u001b[0;34m:\u001b[0m \u001b[0mshow_history\u001b[0m\u001b[0;34m(\u001b[0m\u001b[0mrectangles\u001b[0m\u001b[0;34m)\u001b[0m\u001b[0;34m\u001b[0m\u001b[0m\n",
      "\u001b[0;32m/Users/inchanji/Research/rect_packing/rectpack.py\u001b[0m in \u001b[0;36mfind_nodes_to_fill\u001b[0;34m(node)\u001b[0m\n\u001b[1;32m    162\u001b[0m \u001b[0;32mdef\u001b[0m \u001b[0mfind_nodes_to_fill\u001b[0m\u001b[0;34m(\u001b[0m\u001b[0mnode\u001b[0m\u001b[0;34m)\u001b[0m\u001b[0;34m:\u001b[0m\u001b[0;34m\u001b[0m\u001b[0m\n\u001b[1;32m    163\u001b[0m         \u001b[0mnode_st\u001b[0m  \u001b[0;34m=\u001b[0m \u001b[0mstarting_node\u001b[0m\u001b[0;34m(\u001b[0m\u001b[0mnode\u001b[0m\u001b[0;34m)\u001b[0m\u001b[0;34m\u001b[0m\u001b[0m\n\u001b[0;32m--> 164\u001b[0;31m         \u001b[0mnode_end\u001b[0m \u001b[0;34m=\u001b[0m \u001b[0mneighboring_node\u001b[0m\u001b[0;34m(\u001b[0m\u001b[0mnode\u001b[0m\u001b[0;34m,\u001b[0m \u001b[0mnode_st\u001b[0m\u001b[0;34m)\u001b[0m\u001b[0;34m\u001b[0m\u001b[0m\n\u001b[0m\u001b[1;32m    165\u001b[0m         \u001b[0;32mreturn\u001b[0m \u001b[0;34m[\u001b[0m\u001b[0mnode_st\u001b[0m\u001b[0;34m,\u001b[0m \u001b[0mnode_end\u001b[0m\u001b[0;34m]\u001b[0m\u001b[0;34m,\u001b[0m \u001b[0;34m(\u001b[0m\u001b[0mnode_end\u001b[0m\u001b[0;34m[\u001b[0m\u001b[0;36m0\u001b[0m\u001b[0;34m]\u001b[0m\u001b[0;34m-\u001b[0m\u001b[0mnode_st\u001b[0m\u001b[0;34m[\u001b[0m\u001b[0;36m0\u001b[0m\u001b[0;34m]\u001b[0m\u001b[0;34m+\u001b[0m\u001b[0;36m1\u001b[0m\u001b[0;34m,\u001b[0m \u001b[0mnode_end\u001b[0m\u001b[0;34m[\u001b[0m\u001b[0;36m1\u001b[0m\u001b[0;34m]\u001b[0m\u001b[0;34m-\u001b[0m\u001b[0mnode_st\u001b[0m\u001b[0;34m[\u001b[0m\u001b[0;36m1\u001b[0m\u001b[0;34m]\u001b[0m\u001b[0;34m+\u001b[0m\u001b[0;36m1\u001b[0m\u001b[0;34m)\u001b[0m\u001b[0;34m\u001b[0m\u001b[0m\n\u001b[1;32m    166\u001b[0m \u001b[0;34m\u001b[0m\u001b[0m\n",
      "\u001b[0;32m/Users/inchanji/Research/rect_packing/rectpack.py\u001b[0m in \u001b[0;36mneighboring_node\u001b[0;34m(node, node_st)\u001b[0m\n\u001b[1;32m    147\u001b[0m \u001b[0;34m\u001b[0m\u001b[0m\n\u001b[1;32m    148\u001b[0m         \u001b[0;32mfor\u001b[0m \u001b[0mi\u001b[0m \u001b[0;32min\u001b[0m \u001b[0mrange\u001b[0m\u001b[0;34m(\u001b[0m\u001b[0mlen\u001b[0m\u001b[0;34m(\u001b[0m\u001b[0mnode_tg\u001b[0m\u001b[0;34m)\u001b[0m\u001b[0;34m)\u001b[0m\u001b[0;34m:\u001b[0m\u001b[0;34m\u001b[0m\u001b[0m\n\u001b[0;32m--> 149\u001b[0;31m                 \u001b[0;32mif\u001b[0m \u001b[0;34m(\u001b[0m\u001b[0mnode_tg\u001b[0m\u001b[0;34m[\u001b[0m\u001b[0mi\u001b[0m\u001b[0;34m]\u001b[0m\u001b[0;34m[\u001b[0m\u001b[0;36m1\u001b[0m\u001b[0;34m]\u001b[0m \u001b[0;34m==\u001b[0m \u001b[0mnode_right\u001b[0m\u001b[0;34m[\u001b[0m\u001b[0;36m1\u001b[0m\u001b[0;34m]\u001b[0m\u001b[0;34m)\u001b[0m \u001b[0;34m&\u001b[0m \u001b[0;34m(\u001b[0m\u001b[0mnode_tg\u001b[0m\u001b[0;34m[\u001b[0m\u001b[0mi\u001b[0m\u001b[0;34m]\u001b[0m\u001b[0;34m[\u001b[0m\u001b[0;36m0\u001b[0m\u001b[0;34m]\u001b[0m \u001b[0;34m!=\u001b[0m \u001b[0mnode_right\u001b[0m\u001b[0;34m[\u001b[0m\u001b[0;36m0\u001b[0m\u001b[0;34m]\u001b[0m\u001b[0;34m)\u001b[0m\u001b[0;34m:\u001b[0m\u001b[0;34m\u001b[0m\u001b[0m\n\u001b[0m\u001b[1;32m    150\u001b[0m                         \u001b[0;32mif\u001b[0m \u001b[0;34m(\u001b[0m\u001b[0mnode_tg\u001b[0m\u001b[0;34m[\u001b[0m\u001b[0mi\u001b[0m\u001b[0;34m]\u001b[0m\u001b[0;34m[\u001b[0m\u001b[0;36m0\u001b[0m\u001b[0;34m]\u001b[0m \u001b[0;34m>\u001b[0m \u001b[0mnode_right\u001b[0m\u001b[0;34m[\u001b[0m\u001b[0;36m0\u001b[0m\u001b[0;34m]\u001b[0m\u001b[0;34m)\u001b[0m\u001b[0;34m:\u001b[0m \u001b[0mcstrt_right\u001b[0m \u001b[0;34m=\u001b[0m \u001b[0mTrue\u001b[0m\u001b[0;34m\u001b[0m\u001b[0m\n\u001b[1;32m    151\u001b[0m                         \u001b[0;32melse\u001b[0m \u001b[0;34m:\u001b[0m \u001b[0mcstrt_right\u001b[0m \u001b[0;34m=\u001b[0m \u001b[0mFalse\u001b[0m\u001b[0;34m\u001b[0m\u001b[0m\n",
      "\u001b[0;31mUnboundLocalError\u001b[0m: local variable 'node_right' referenced before assignment"
     ]
    }
   ],
   "source": [
    "rp.do_fill(Maskmap,lens)\n",
    "plt.imshow(Maskmap, origin='lower')\n",
    "plt.show()\n",
    "Nodemap = Maskmap.copy()\n",
    "nodes = rp.find_all_nodes(Nodemap)\n",
    "for i in range(len(nodes)): Nodemap[nodes[i]] = 80\n",
    "plt.imshow(Nodemap,origin='lower')\n",
    "plt.show()"
   ]
  },
  {
   "cell_type": "code",
   "execution_count": 19,
   "metadata": {},
   "outputs": [
    {
     "name": "stdout",
     "output_type": "stream",
     "text": [
      "# step : 14  (going to fill 15th type)\n",
      "  find nodes\n",
      "  starting node:  (35, 0) node up:  (39, 0) node right:  (35, 19)  ending node :  (39, 19)   size :  (5, 20)\n",
      "  packing history:  [(5, 10), (20, 15), (10, 10), (10, 5), (10, 10), (20, 15), (10, 10), (10, 10), (10, 5), (10, 10), (5, 10), (10, 5), (5, 10), (10, 5)]\n",
      "  first try to fill\n",
      "  avail. types:  [(5, 10)]\n",
      "  will use : (5, 10)\n"
     ]
    },
    {
     "data": {
      "image/png": "[encoded data removed]",
      "text/plain": [
       "<matplotlib.figure.Figure at 0x1a125a00d0>"
      ]
     },
     "metadata": {},
     "output_type": "display_data"
    },
    {
     "name": "stdout",
     "output_type": "stream",
     "text": [
      "  find nodes\n"
     ]
    },
    {
     "data": {
      "image/png": "[encoded data removed]",
      "text/plain": [
       "<matplotlib.figure.Figure at 0x1a0935ea10>"
      ]
     },
     "metadata": {},
     "output_type": "display_data"
    }
   ],
   "source": [
    "rp.do_fill(Maskmap,lens)\n",
    "plt.imshow(Maskmap, origin='lower')\n",
    "plt.show()\n",
    "Nodemap = Maskmap.copy()\n",
    "nodes = rp.find_all_nodes(Nodemap)\n",
    "for i in range(len(nodes)): Nodemap[nodes[i]] = 80\n",
    "plt.imshow(Nodemap,origin='lower')\n",
    "plt.show()"
   ]
  },
  {
   "cell_type": "code",
   "execution_count": 20,
   "metadata": {},
   "outputs": [
    {
     "name": "stdout",
     "output_type": "stream",
     "text": [
      "# step : 15  (going to fill 16th type)\n",
      "  find nodes\n",
      "  starting node:  (35, 10) node up:  (39, 10) node right:  (35, 19)  ending node :  (39, 19)   size :  (5, 10)\n",
      "  packing history:  [(5, 10), (20, 15), (10, 10), (10, 5), (10, 10), (20, 15), (10, 10), (10, 10), (10, 5), (10, 10), (5, 10), (10, 5), (5, 10), (10, 5), (5, 10)]\n",
      "  first try to fill\n",
      "  avail. types:  [(5, 10)]\n",
      "  will use : (5, 10)\n"
     ]
    },
    {
     "data": {
      "image/png": "[encoded data removed]",
      "text/plain": [
       "<matplotlib.figure.Figure at 0x1a12783890>"
      ]
     },
     "metadata": {},
     "output_type": "display_data"
    },
    {
     "name": "stdout",
     "output_type": "stream",
     "text": [
      "  find nodes\n"
     ]
    },
    {
     "data": {
      "image/png": "[encoded data removed]",
      "text/plain": [
       "<matplotlib.figure.Figure at 0x1a126be8d0>"
      ]
     },
     "metadata": {},
     "output_type": "display_data"
    }
   ],
   "source": [
    "rp.do_fill(Maskmap,lens)\n",
    "plt.imshow(Maskmap, origin='lower')\n",
    "plt.show()\n",
    "Nodemap = Maskmap.copy()\n",
    "nodes = rp.find_all_nodes(Nodemap)\n",
    "for i in range(len(nodes)): Nodemap[nodes[i]] = 10\n",
    "plt.imshow(Nodemap,origin='lower')\n",
    "plt.show()"
   ]
  },
  {
   "cell_type": "code",
   "execution_count": 21,
   "metadata": {},
   "outputs": [
    {
     "name": "stdout",
     "output_type": "stream",
     "text": [
      "# step : 16  (going to fill 17th type)\n",
      "  find nodes\n",
      "  starting node:  (35, 25) node up:  (39, 25) node right:  (35, 34)  ending node :  (39, 34)   size :  (5, 10)\n",
      "  packing history:  [(5, 10), (20, 15), (10, 10), (10, 5), (10, 10), (20, 15), (10, 10), (10, 10), (10, 5), (10, 10), (5, 10), (10, 5), (5, 10), (10, 5), (5, 10), (5, 10)]\n",
      "  first try to fill\n",
      "  avail. types:  [(5, 10)]\n",
      "  will use : (5, 10)\n"
     ]
    },
    {
     "data": {
      "image/png": "[encoded data removed]",
      "text/plain": [
       "<matplotlib.figure.Figure at 0x1a123f6910>"
      ]
     },
     "metadata": {},
     "output_type": "display_data"
    },
    {
     "name": "stdout",
     "output_type": "stream",
     "text": [
      "  find nodes\n"
     ]
    },
    {
     "data": {
      "image/png": "[encoded data removed]",
      "text/plain": [
       "<matplotlib.figure.Figure at 0x1a1290fc90>"
      ]
     },
     "metadata": {},
     "output_type": "display_data"
    }
   ],
   "source": [
    "rp.do_fill(Maskmap,lens)\n",
    "plt.imshow(Maskmap, origin='lower')\n",
    "plt.show()\n",
    "Nodemap = Maskmap.copy()\n",
    "nodes = rp.find_all_nodes(Nodemap)\n",
    "for i in range(len(nodes)): Nodemap[nodes[i]] = 10\n",
    "plt.imshow(Nodemap,origin='lower')\n",
    "plt.show()"
   ]
  },
  {
   "cell_type": "code",
   "execution_count": 18,
   "metadata": {},
   "outputs": [
    {
     "data": {
      "image/png": "[encoded data removed]",
      "text/plain": [
       "<matplotlib.figure.Figure at 0x1a1fc8da10>"
      ]
     },
     "metadata": {},
     "output_type": "display_data"
    },
    {
     "name": "stdout",
     "output_type": "stream",
     "text": [
      "  find nodes\n",
      "6 [(30, 10), (30, 39), (35, 2), (35, 10), (39, 2), (39, 39)]\n"
     ]
    },
    {
     "data": {
      "image/png": "[encoded data removed]",
      "text/plain": [
       "<matplotlib.figure.Figure at 0x1a1fa6de90>"
      ]
     },
     "metadata": {},
     "output_type": "display_data"
    }
   ],
   "source": [
    "ind = ((x2d < 10) & (y2d < 30)) | ((x2d < 20) & (y2d < 20)) | (x2d < 2)\n",
    "Maskmap[ind] = 20\n",
    "plt.imshow(Maskmap,origin='lower', vmax=80)\n",
    "plt.show()\n",
    "Nodemap = Maskmap.copy()\n",
    "nodes = rp.find_all_nodes(Maskmap)\n",
    "for i in range(len(nodes)): Nodemap[nodes[i]] = 80\n",
    "print len(nodes), nodes\n",
    "plt.imshow(Nodemap,origin='lower',vmax=80)\n",
    "plt.show()    "
   ]
  },
  {
   "cell_type": "code",
   "execution_count": 13,
   "metadata": {},
   "outputs": [
    {
     "name": "stdout",
     "output_type": "stream",
     "text": [
      "([(0, 20), (39, 29)], (40, 10))\n",
      "[(10, 5), (5, 10), (10, 10), (15, 15), (20, 15), (15, 20)]\n"
     ]
    },
    {
     "data": {
      "text/plain": [
       "[True, True, True, False, False, False]"
      ]
     },
     "execution_count": 13,
     "metadata": {},
     "output_type": "execute_result"
    }
   ],
   "source": [
    "print rp.find_nodes_to_fill(nodes)\n",
    "_, area = rp.find_nodes_to_fill(nodes)\n",
    "print lens.type\n",
    "rp.fillable_rects(lens.type,area)\n"
   ]
  },
  {
   "cell_type": "code",
   "execution_count": 7,
   "metadata": {},
   "outputs": [
    {
     "data": {
      "image/png": "[encoded data removed]",
      "text/plain": [
       "<matplotlib.figure.Figure at 0x1a1f6cfb50>"
      ]
     },
     "metadata": {},
     "output_type": "display_data"
    }
   ],
   "source": [
    "z2d =  (x2d + y2d) + 1\n",
    "#ind = z2d < 8\n",
    "ind = ((x2d < 20) & (y2d < 30)) | ((x2d < 25) & (y2d < 20)) | (x2d < 2)\n",
    "#ind = ((x2d < 20) & (y2d < 30)) | ((x2d < 25) & (y2d < 20))\n",
    "#ind = ((x2d < 5) & (y2d < 5)) | ((x2d < 15) & (y2d < 2))\n",
    "#ind = np.logical_not((x2d > 8) & (y2d > 6))\n",
    "z2d[ind] = 0\n",
    "h = plt.imshow(z2d,origin='lower')"
   ]
  },
  {
   "cell_type": "code",
   "execution_count": 8,
   "metadata": {},
   "outputs": [
    {
     "name": "stdout",
     "output_type": "stream",
     "text": [
      "find nodes\n",
      "0.017 sec.\n",
      "2 [(0, 0), (39, 0)]\n"
     ]
    },
    {
     "data": {
      "image/png": "[encoded data removed]",
      "text/plain": [
       "<matplotlib.figure.Figure at 0x1a1f991710>"
      ]
     },
     "metadata": {},
     "output_type": "display_data"
    }
   ],
   "source": [
    "nodes = rp.find_nodes(z2d)\n",
    "print len(nodes),nodes\n",
    "for i in range(len(nodes)):\n",
    "    z2d[nodes[i]] = 80\n",
    "h = plt.imshow(z2d,origin='lower')"
   ]
  },
  {
   "cell_type": "code",
   "execution_count": 136,
   "metadata": {},
   "outputs": [
    {
     "name": "stdout",
     "output_type": "stream",
     "text": [
      "find nodes\n",
      "(10, 15)\n"
     ]
    }
   ],
   "source": [
    "find_nodes(z2d)"
   ]
  },
  {
   "cell_type": "code",
   "execution_count": 80,
   "metadata": {},
   "outputs": [
    {
     "data": {
      "text/plain": [
       "<matplotlib.image.AxesImage at 0x1a153007d0>"
      ]
     },
     "execution_count": 80,
     "metadata": {},
     "output_type": "execute_result"
    },
    {
     "data": {
      "image/png": "[encoded data removed]",
      "text/plain": [
       "<matplotlib.figure.Figure at 0x1a15374990>"
      ]
     },
     "metadata": {},
     "output_type": "display_data"
    }
   ],
   "source": [
    "plt.imshow(Maskmap,origin='lower')"
   ]
  },
  {
   "cell_type": "code",
   "execution_count": 11,
   "metadata": {},
   "outputs": [],
   "source": [
    "node = [(0, 25), (20, 20), (0, 29), (20, 25), (30, 2), (30, 20), (39, 2), (39, 29)]\n",
    "a, b = rp.nodes_to_fill(node)"
   ]
  },
  {
   "cell_type": "code",
   "execution_count": 5,
   "metadata": {},
   "outputs": [],
   "source": [
    "dist = [];\n",
    "for i in range(len(node)): dist.append(node[i][0]**2.+ node[i][1]**2.)\n",
    "ind = np.argsort(np.array(dist)); node_end = node[ind[-1]];\n"
   ]
  },
  {
   "cell_type": "code",
   "execution_count": 16,
   "metadata": {},
   "outputs": [
    {
     "data": {
      "text/plain": [
       "[(0, 25), (20, 20), (0, 29), (20, 25), (30, 2), (30, 20), (39, 2), (39, 29)]"
      ]
     },
     "execution_count": 16,
     "metadata": {},
     "output_type": "execute_result"
    }
   ],
   "source": [
    "[(0, 25), (20, 20), (0, 29), (20, 25), (30, 2), (30, 20), (39, 2), (39, 29)]"
   ]
  },
  {
   "cell_type": "code",
   "execution_count": 21,
   "metadata": {},
   "outputs": [],
   "source": [
    "availtypes = []\n",
    "for i in range(10): availtypes.append(i);"
   ]
  },
  {
   "cell_type": "code",
   "execution_count": 20,
   "metadata": {},
   "outputs": [
    {
     "name": "stdout",
     "output_type": "stream",
     "text": [
      "[1, 2, 3, 4, 5] [1, 3, 4, 5]\n"
     ]
    }
   ],
   "source": [
    "a = [1,2,3,4,5]\n",
    "b = []; \n",
    "for i in range(len(a)): b.append(a[i])\n",
    "b.remove(2)\n",
    "print a, b"
   ]
  },
  {
   "cell_type": "code",
   "execution_count": 20,
   "metadata": {},
   "outputs": [],
   "source": [
    "node_right, node_up, node_end =  (0, 39), (10, 5) ,(39, 39)"
   ]
  },
  {
   "cell_type": "code",
   "execution_count": 21,
   "metadata": {},
   "outputs": [],
   "source": [
    "if node_right[1] < node_end[1] : node_end[1] = node_right[1]"
   ]
  },
  {
   "cell_type": "code",
   "execution_count": 25,
   "metadata": {},
   "outputs": [
    {
     "data": {
      "text/plain": [
       "tuple"
      ]
     },
     "execution_count": 25,
     "metadata": {},
     "output_type": "execute_result"
    }
   ],
   "source": [
    "type(node_end)"
   ]
  },
  {
   "cell_type": "code",
   "execution_count": 26,
   "metadata": {},
   "outputs": [
    {
     "data": {
      "text/plain": [
       "tuple"
      ]
     },
     "execution_count": 26,
     "metadata": {},
     "output_type": "execute_result"
    }
   ],
   "source": [
    "type(node_up)"
   ]
  },
  {
   "cell_type": "code",
   "execution_count": 11,
   "metadata": {},
   "outputs": [],
   "source": [
    "x1d = np.arange(5); y1d = np.arange(5); \n",
    "x2d, y2d = np.meshgrid(x1d, y1d) \n",
    "array = x2d ** 2. + y2d ** 2.\n"
   ]
  },
  {
   "cell_type": "code",
   "execution_count": 13,
   "metadata": {},
   "outputs": [
    {
     "data": {
      "text/plain": [
       "array([[2., 5.],\n",
       "       [5., 8.]])"
      ]
     },
     "execution_count": 13,
     "metadata": {},
     "output_type": "execute_result"
    }
   ],
   "source": [
    "array[1:3,1:3]"
   ]
  },
  {
   "cell_type": "code",
   "execution_count": 38,
   "metadata": {},
   "outputs": [
    {
     "name": "stdout",
     "output_type": "stream",
     "text": [
      "[ 9 10 11 12]\n",
      "10\n",
      "10\n"
     ]
    }
   ],
   "source": [
    "a = np.array([0,1,2,3,4,5,6,7,8,9,10,11,12])\n",
    "ind0 = np.where(a > 8)[0]\n",
    "print ind0\n",
    "a1 = a[ind0].copy()\n",
    "j = 1\n",
    "print a1[j]\n",
    "print a[ind0[j]]\n"
   ]
  },
  {
   "cell_type": "code",
   "execution_count": 4,
   "metadata": {},
   "outputs": [
    {
     "name": "stdout",
     "output_type": "stream",
     "text": [
      "5\n"
     ]
    }
   ],
   "source": [
    "for i in range(10):\n",
    "    if i == 5: break\n",
    "print i"
   ]
  },
  {
   "cell_type": "code",
   "execution_count": null,
   "metadata": {},
   "outputs": [],
   "source": []
  }
 ],
 "metadata": {
  "kernelspec": {
   "display_name": "Python 2",
   "language": "python",
   "name": "python2"
  },
  "language_info": {
   "codemirror_mode": {
    "name": "ipython",
    "version": 2
   },
   "file_extension": ".py",
   "mimetype": "text/x-python",
   "name": "python",
   "nbconvert_exporter": "python",
   "pygments_lexer": "ipython2",
   "version": "2.7.14"
  }
 },
 "nbformat": 4,
 "nbformat_minor": 2
}
